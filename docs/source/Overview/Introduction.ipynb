{
 "cells": [
  {
   "cell_type": "markdown",
   "metadata": {
    "collapsed": true,
    "pycharm": {
     "name": "#%% md\n"
    }
   },
   "source": [
    "# Overview\n",
    "\n",
    "PyTrack is designed as an object oriented mapper for [DVC](https://dvc.org/).\n",
    "DVC provides tracking of large data files within a GIT repository.\n",
    "Therefore, all PyTrack instances will later be executed inside a GIT repository.\n",
    "Furthermore, DVC provides method for building a dependency graph, tracking parameters, comparing metrics and querying multiple runs.\n",
    "\n",
    "**Why does it need an object-oriented mapper?**\n",
    "\n",
    "Whilst DVC provides all this functionality it is designed to be programming language independent. PyTrack is designed purely for building python packages and is optimized in such manner."
   ]
  },
  {
   "cell_type": "markdown",
   "source": [
    "## Stages\n",
    "\n",
    "\n",
    "DVC organizes its pipeline in multiple stages (see https://dvc.org/doc/start for more information).\n",
    "In the case of PyTrack every stage is decorated with `pytrack.PyTrack` as follows"
   ],
   "metadata": {
    "collapsed": false
   }
  },
  {
   "cell_type": "code",
   "execution_count": 1,
   "outputs": [],
   "source": [
    "# We are working in a temporary directory for easier cleanup\n",
    "import os\n",
    "import shutil\n",
    "from tempfile import TemporaryDirectory\n",
    "from pytrack import PyTrackProject\n",
    "from IPython.display import Pretty, display\n",
    "\n",
    "temp_dir = TemporaryDirectory()\n",
    "cwd = os.getcwd()\n",
    "\n",
    "shutil.copy(\"Introduction.ipynb\", temp_dir.name)\n",
    "\n",
    "os.chdir(temp_dir.name)\n",
    "\n",
    "project = PyTrackProject()\n",
    "project.create_dvc_repository()"
   ],
   "metadata": {
    "collapsed": false,
    "pycharm": {
     "name": "#%%\n"
    }
   }
  },
  {
   "cell_type": "code",
   "execution_count": 2,
   "outputs": [
    {
     "name": "stderr",
     "output_type": "stream",
     "text": [
      "Jupyter support is an experimental feature! Please save your notebook before running this command!\n",
      "Submit issues to https://github.com/zincware/py-track.\n"
     ]
    }
   ],
   "source": [
    "from pytrack import PyTrack, DVC\n",
    "\n",
    "\n",
    "@PyTrack(nb_name=\"Introduction.ipynb\")\n",
    "class Stage:\n",
    "    def __init__(self):\n",
    "        \"\"\"Class constructor\n",
    "\n",
    "        Definition of parameters and results\n",
    "        \"\"\"\n",
    "        self.n_1 = DVC.params()\n",
    "        self.n_2 = DVC.params()\n",
    "        self.sum = DVC.result()\n",
    "        self.dif = DVC.result()\n",
    "\n",
    "    def __call__(self, n_1, n_2):\n",
    "        \"\"\"User input\n",
    "\n",
    "        Parameters\n",
    "        ----------\n",
    "        n_1: First number\n",
    "        n_2: Second number\n",
    "        \"\"\"\n",
    "        self.n_1 = n_1\n",
    "        self.n_2 = n_2\n",
    "\n",
    "    def run(self):\n",
    "        \"\"\"Actual computation\n",
    "        \"\"\"\n",
    "        self.sum = self.n_1 + self.n_2\n",
    "        self.dif = self.n_1 - self.n_2"
   ],
   "metadata": {
    "collapsed": false,
    "pycharm": {
     "name": "#%%\n"
    }
   }
  },
  {
   "cell_type": "markdown",
   "source": [
    "This example defines a DVC stage that performs an addition and subtraction on two numbers `n_1, n_2`.\n",
    "To use the stage we have to move it inside a directory and initialize `git init` and `dvc init`\n",
    "If we now instantiate a stage and call it `Stage()(5, 10)` three important files will be generated for us:"
   ],
   "metadata": {
    "collapsed": false,
    "pycharm": {
     "name": "#%% md\n"
    }
   }
  },
  {
   "cell_type": "code",
   "execution_count": 3,
   "outputs": [
    {
     "name": "stderr",
     "output_type": "stream",
     "text": [
      "Updating n_1 with PyTrackOption and value None!\n",
      "Updating n_2 with PyTrackOption and value None!\n",
      "Updating sum with PyTrackOption and value None!\n",
      "Updating dif with PyTrackOption and value None!\n",
      "Updating n_1 with 5\n",
      "Updating n_2 with 10\n",
      "'DVCParams' object has no attribute 'params'\n",
      "'DVCParams' object has no attribute 'params'\n",
      "No results found!\n",
      "'DVCParams' object has no attribute 'result'\n",
      "No results found!\n",
      "'DVCParams' object has no attribute 'result'\n",
      "--- Writing new DVC file! ---\n",
      "Overwriting existing configuration!\n",
      "running script: dvc run -n Stage_0 --outs outs\\0_Stage.json --params config\\pytrack.json:Stage.0.params --deps src\\Stage.py --force --no-exec python -c \"from src.Stage import Stage; Stage(id_=0).run()\"\n"
     ]
    }
   ],
   "source": [
    "stage = Stage()\n",
    "stage(5, 10)"
   ],
   "metadata": {
    "collapsed": false,
    "pycharm": {
     "name": "#%%\n"
    }
   }
  },
  {
   "cell_type": "markdown",
   "source": [
    "## dvc.yaml\n",
    "The first file we are interested in defines all DVC stage ``dvc.yaml``"
   ],
   "metadata": {
    "collapsed": false,
    "pycharm": {
     "name": "#%% md\n"
    }
   }
  },
  {
   "cell_type": "code",
   "source": [
    "display(Pretty(\"dvc.yaml\"))"
   ],
   "metadata": {
    "collapsed": false,
    "pycharm": {
     "name": "#%%\n"
    }
   },
   "execution_count": 4,
   "outputs": [
    {
     "data": {
      "text/plain": "stages:\n  Stage_0:\n    cmd: python -c \"from src.Stage import Stage; Stage(id_=0).run()\"\n    deps:\n    - src\\Stage.py\n    params:\n    - config/pytrack.json:\n      - Stage.0.params\n    outs:\n    - outs\\0_Stage.json\n"
     },
     "metadata": {},
     "output_type": "display_data"
    }
   ]
  },
  {
   "cell_type": "markdown",
   "source": [
    "In this scenario we are using `@PyTrack(nb_name=\"Introduction.ipynb\")` which allows us to use a Jupyter Notebook.\n",
    "This creates a file that contains our class definition in `src/Stage.py`.\n",
    "We can see here that DVC will run `python3 -c \"from src.Stage import Stage; Stage(id_=0).run()\"`.\n",
    "This requires that all information for running this command must be given through files.\n",
    "It is crucial that this command can run without requiring anything being passed to the `__init__` of the class!\n",
    "Furthermore, we see here that we pass the argument `id_=0` which is not defined in our `__init__` because PyTrack handles this for us automatically.\n",
    "This file also specifies the dependencies and outputs from our stage. This information can then be used to generate e.g., the DAG.\n"
   ],
   "metadata": {
    "collapsed": false,
    "pycharm": {
     "name": "#%% md\n"
    }
   }
  },
  {
   "cell_type": "markdown",
   "source": [
    "## params.json\n",
    "\n",
    "All `DVC.params()` are stored in ``pytrack.json``. Our file contains two numbers and looks as follows"
   ],
   "metadata": {
    "collapsed": false,
    "pycharm": {
     "name": "#%% md\n"
    }
   }
  },
  {
   "cell_type": "code",
   "execution_count": 5,
   "outputs": [
    {
     "data": {
      "text/plain": "{\n    \"Stage\": {\n        \"0\": {\n            \"params\": {\n                \"n_1\": 5,\n                \"n_2\": 10\n            }\n        }\n    },\n    \"default\": null\n}"
     },
     "metadata": {},
     "output_type": "display_data"
    }
   ],
   "source": [
    "display(Pretty(\"config/pytrack.json\"))"
   ],
   "metadata": {
    "collapsed": false,
    "pycharm": {
     "name": "#%%\n"
    }
   }
  },
  {
   "cell_type": "markdown",
   "source": [
    "Here ``Stage`` gives the name of Stage, which is usually the name of the class.\n",
    "Therefore, it is important that PyTrack stages don’t share a name within one pipeline.\n",
    "The ``id_=0`` allows for having multiple parameters to a single stage.\n",
    "This is usually not a good idea and therefore 0 is handled as the default."
   ],
   "metadata": {
    "collapsed": false,
    "pycharm": {
     "name": "#%% md\n"
    }
   }
  },
  {
   "cell_type": "markdown",
   "source": [
    "## 0_Stages.json\n",
    "\n",
    "The file outs/0_Stage.json is the output from the stage.\n",
    "It contains the values for Stage(id_=0).sum and Stage(id_=0).d if after running the stage.\n",
    "PyTrack needs to know which attributes are considered results and therefore has the definition of result() in the init.\n",
    "This allows accessing and sharing the result of a stage without manually opening the generated files.\n",
    "In general all paths should be handled through PyTrack in a way described later.\n",
    "\n",
    "We can use ``dvc repro`` or `PyTrackProject` to run our code."
   ],
   "metadata": {
    "collapsed": false,
    "pycharm": {
     "name": "#%% md\n"
    }
   }
  },
  {
   "cell_type": "code",
   "execution_count": 6,
   "outputs": [
    {
     "name": "stderr",
     "output_type": "stream",
     "text": [
      "No results found!\n"
     ]
    }
   ],
   "source": [
    "stage.sum"
   ],
   "metadata": {
    "collapsed": false,
    "pycharm": {
     "name": "#%%\n"
    }
   }
  },
  {
   "cell_type": "code",
   "execution_count": 7,
   "outputs": [
    {
     "name": "stderr",
     "output_type": "stream",
     "text": [
      "Updating n_1 with PyTrackOption and value None!\n",
      "Updating n_2 with PyTrackOption and value None!\n",
      "Updating sum with PyTrackOption and value None!\n",
      "Updating dif with PyTrackOption and value None!\n",
      "Updating sum with 15\n",
      "Processing value {'sum': 15}\n",
      "No results found!\n",
      "Writing {'sum': 15} to outs\\0_Stage.json\n",
      "successful!\n",
      "Updating dif with -5\n",
      "Processing value {'dif': -5}\n",
      "Loading results {'sum': 15}\n",
      "Writing {'sum': 15, 'dif': -5} to outs\\0_Stage.json\n",
      "successful!\n",
      "Loading results {'sum': 15, 'dif': -5}\n"
     ]
    },
    {
     "name": "stdout",
     "output_type": "stream",
     "text": [
      "Running stage 'Stage_0':\n",
      "> python -c \"from src.Stage import Stage; Stage(id_=0).run()\"\n",
      "Generating lock file 'dvc.lock'\n",
      "Updating lock file 'dvc.lock'\n",
      "\n",
      "To track the changes with git, run:\n",
      "\n",
      "\tgit add dvc.lock\n",
      "Use `dvc push` to send your updates to remote storage.\n"
     ]
    },
    {
     "data": {
      "text/plain": "15"
     },
     "execution_count": 7,
     "metadata": {},
     "output_type": "execute_result"
    }
   ],
   "source": [
    "!dvc repro\n",
    "stage.sum\n"
   ],
   "metadata": {
    "collapsed": false,
    "pycharm": {
     "name": "#%%\n"
    }
   }
  },
  {
   "cell_type": "markdown",
   "source": [
    "This will create the outs/0_Stage.json as"
   ],
   "metadata": {
    "collapsed": false,
    "pycharm": {
     "name": "#%% md\n"
    }
   }
  },
  {
   "cell_type": "code",
   "execution_count": 8,
   "outputs": [
    {
     "data": {
      "text/plain": "{\n    \"sum\": 15,\n    \"dif\": -5\n}"
     },
     "metadata": {},
     "output_type": "display_data"
    }
   ],
   "source": [
    "display(Pretty(\"outs/0_Stage.json\"))\n"
   ],
   "metadata": {
    "collapsed": false,
    "pycharm": {
     "name": "#%%\n"
    }
   }
  },
  {
   "cell_type": "code",
   "execution_count": 9,
   "outputs": [],
   "source": [
    "# Cleanup all files\n",
    "os.chdir(\"..\")\n",
    "temp_dir.cleanup()"
   ],
   "metadata": {
    "collapsed": false,
    "pycharm": {
     "name": "#%%\n"
    }
   }
  }
 ],
 "metadata": {
  "kernelspec": {
   "display_name": "Python 3",
   "language": "python",
   "name": "python3"
  },
  "language_info": {
   "codemirror_mode": {
    "name": "ipython",
    "version": 2
   },
   "file_extension": ".py",
   "mimetype": "text/x-python",
   "name": "python",
   "nbconvert_exporter": "python",
   "pygments_lexer": "ipython2",
   "version": "2.7.6"
  }
 },
 "nbformat": 4,
 "nbformat_minor": 0
}