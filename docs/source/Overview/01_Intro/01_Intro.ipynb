{
 "cells": [
  {
   "cell_type": "markdown",
   "metadata": {
    "pycharm": {
     "name": "#%% md\n"
    }
   },
   "source": [
    "# Overview\n",
    "\n",
    "PyTrack is designed as an object oriented mapper for [DVC](https://dvc.org/).\n",
    "DVC provides tracking of large data files within a GIT repository.\n",
    "Therefore, all PyTrack instances will later be executed inside a GIT repository.\n",
    "Furthermore, DVC provides method for building a dependency graph, tracking parameters, comparing metrics and querying multiple runs.\n",
    "\n",
    "**Why does it need an object-oriented mapper?**\n",
    "\n",
    "Whilst DVC provides all this functionality it is designed to be programming language independent. PyTrack is designed purely for building python packages and is optimized in such manner."
   ]
  },
  {
   "cell_type": "markdown",
   "metadata": {
    "pycharm": {
     "name": "#%% md\n"
    },
    "tags": []
   },
   "source": [
    "## Stages\n",
    "\n",
    "\n",
    "DVC organizes its pipeline in multiple stages (see https://dvc.org/doc/start for more information).\n",
    "In the case of PyTrack every stage is decorated with `pytrack.PyTrack` as follows"
   ]
  },
  {
   "cell_type": "code",
   "execution_count": 26,
   "metadata": {},
   "outputs": [
    {
     "name": "stdout",
     "output_type": "stream",
     "text": [
      "rm: refusing to remove '.' or '..' directory: skipping '.'\n",
      "rm: refusing to remove '.' or '..' directory: skipping '..'\n"
     ]
    }
   ],
   "source": [
    "!rm -rf *\n",
    "!rm -rf .*"
   ]
  },
  {
   "cell_type": "code",
   "execution_count": 2,
   "metadata": {},
   "outputs": [
    {
     "name": "stdout",
     "output_type": "stream",
     "text": [
      "Initialized empty Git repository in /tikhome/fzills/PycharmProjects/py-track/docs/source/Overview/01_Intro/.git/\n",
      "Initialized DVC repository.\n",
      "\n",
      "You can now commit the changes to git.\n",
      "\n",
      "\u001b[31m+---------------------------------------------------------------------+\n",
      "\u001b[0m\u001b[31m|\u001b[0m                                                                     \u001b[31m|\u001b[0m\n",
      "\u001b[31m|\u001b[0m        DVC has enabled anonymous aggregate usage analytics.         \u001b[31m|\u001b[0m\n",
      "\u001b[31m|\u001b[0m     Read the analytics documentation (and how to opt-out) here:     \u001b[31m|\u001b[0m\n",
      "\u001b[31m|\u001b[0m             <\u001b[36mhttps://dvc.org/doc/user-guide/analytics\u001b[39m>              \u001b[31m|\u001b[0m\n",
      "\u001b[31m|\u001b[0m                                                                     \u001b[31m|\u001b[0m\n",
      "\u001b[31m+---------------------------------------------------------------------+\n",
      "\u001b[0m\n",
      "\u001b[33mWhat's next?\u001b[39m\n",
      "\u001b[33m------------\u001b[39m\n",
      "- Check out the documentation: <\u001b[36mhttps://dvc.org/doc\u001b[39m>\n",
      "- Get help and share ideas: <\u001b[36mhttps://dvc.org/chat\u001b[39m>\n",
      "- Star us on GitHub: <\u001b[36mhttps://github.com/iterative/dvc\u001b[39m>\n",
      "\u001b[0m"
     ]
    }
   ],
   "source": [
    "!git init\n",
    "!dvc init"
   ]
  },
  {
   "cell_type": "code",
   "execution_count": 3,
   "metadata": {
    "collapsed": false,
    "jupyter": {
     "outputs_hidden": false
    },
    "pycharm": {
     "name": "#%%\n"
    }
   },
   "outputs": [
    {
     "name": "stdout",
     "output_type": "stream",
     "text": [
      "2021-10-15 15:36:49,612 (WARNING): Jupyter support is an experimental feature! Please save your notebook before running this command!\n",
      "Submit issues to https://github.com/zincware/py-track.\n"
     ]
    },
    {
     "name": "stderr",
     "output_type": "stream",
     "text": [
      "[NbConvertApp] Converting notebook 01_Intro.ipynb to script\n",
      "[NbConvertApp] Writing 8652 bytes to 01_Intro.py\n"
     ]
    }
   ],
   "source": [
    "from pytrack import PyTrack, config\n",
    "\n",
    "config.nb_name = \"01_Intro.ipynb\"\n",
    "\n",
    "@PyTrack()\n",
    "class Stage0:\n",
    "    def run(self):\n",
    "        pass"
   ]
  },
  {
   "cell_type": "markdown",
   "metadata": {},
   "source": [
    "Every DVC stage is organized as a Python class. The class must implement a `run` method, which is the entry point for the computation executed by DVC. Furthermore a `__call__` method will be created, if none is provided. When calling the stage, the DVC file will be created and the parameters are beeing passed."
   ]
  },
  {
   "cell_type": "code",
   "execution_count": 4,
   "metadata": {},
   "outputs": [
    {
     "name": "stdout",
     "output_type": "stream",
     "text": [
      "2021-10-15 15:36:52,673 (WARNING): --- Writing new DVC file! ---\n",
      "2021-10-15 15:36:52,673 (WARNING): Overwriting existing configuration!\n",
      "2021-10-15 15:36:55,642 (INFO): Creating 'dvc.yaml'\n",
      "Adding stage 'Stage0' in 'dvc.yaml'\n",
      "\n",
      "To track the changes with git, run:\n",
      "\n",
      "\tgit add outs/.gitignore dvc.yaml\n",
      "\n",
      "\u001b[01;34m.\u001b[00m\n",
      "├── 01_Intro.ipynb\n",
      "├── \u001b[01;34mconfig\u001b[00m\n",
      "│   └── pytrack.json\n",
      "├── dvc.yaml\n",
      "├── \u001b[01;34mouts\u001b[00m\n",
      "└── \u001b[01;34msrc\u001b[00m\n",
      "    └── Stage0.py\n",
      "\n",
      "3 directories, 4 files\n"
     ]
    }
   ],
   "source": [
    "stage_0 = Stage0()\n",
    "stage_0()\n",
    "!tree"
   ]
  },
  {
   "cell_type": "markdown",
   "metadata": {},
   "source": [
    "As shown we create a file in `config/pytrack.json` which stores the parameters of all stages. Furthermore, a directory `outs` is additionally added. Using a Jupyter Notebook has the specialty, that a directory `src` is added which contains a converted `*.py` file of the Jupyter Notebook. These direcotries and files are managed by PyTrack. The file `dvc.yaml` is created by calling dvc in the background and is used by DVC to organize the pipelines.\n",
    "\n",
    "We can now use `dvc  repro` to execute our code, which in result does nothing yet"
   ]
  },
  {
   "cell_type": "code",
   "execution_count": 5,
   "metadata": {},
   "outputs": [
    {
     "name": "stdout",
     "output_type": "stream",
     "text": [
      "Running stage 'Stage0':                                               core\u001b[39m>\n",
      "> python3 -c \"from src.Stage0 import Stage0; Stage0(load=True).run()\"\n",
      "2021-10-15 15:36:57,872 (WARNING): No results found!\n",
      "Generating lock file 'dvc.lock'                                                 \n",
      "Updating lock file 'dvc.lock'\n",
      "\n",
      "To track the changes with git, run:\n",
      "\n",
      "\tgit add dvc.lock\n",
      "Use `dvc push` to send your updates to remote storage.\n",
      "\u001b[0m"
     ]
    }
   ],
   "source": [
    "!dvc repro"
   ]
  },
  {
   "cell_type": "markdown",
   "metadata": {},
   "source": [
    "### PyTrack Results\n",
    "We can see, that the stage is run without issues.\n",
    "Unfortunately, the stage we just created doesn't do anything.\n",
    "In our first example we would like to create a random number in our stage and save it.\n",
    "We can do this utilizing `pytrack.DVC.result` which is a special type of a DVC outs file, managed by PyTrack.\n",
    "We do this by defining a class level attribute.\n",
    "This is similar to setting a Python `@property` where `__get__` and `__set__` has some custom handling assigend to it.\n",
    "In comparison the the `@property` we do not need to think about the `getter/setter`."
   ]
  },
  {
   "cell_type": "code",
   "execution_count": 6,
   "metadata": {},
   "outputs": [
    {
     "name": "stdout",
     "output_type": "stream",
     "text": [
      "2021-10-15 15:36:58,565 (WARNING): Jupyter support is an experimental feature! Please save your notebook before running this command!\n",
      "Submit issues to https://github.com/zincware/py-track.\n"
     ]
    },
    {
     "name": "stderr",
     "output_type": "stream",
     "text": [
      "[NbConvertApp] Converting notebook 01_Intro.ipynb to script\n"
     ]
    },
    {
     "name": "stdout",
     "output_type": "stream",
     "text": [
      "2021-10-15 15:37:01,554 (WARNING): --- Writing new DVC file! ---\n",
      "2021-10-15 15:37:01,555 (WARNING): Overwriting existing configuration!\n"
     ]
    },
    {
     "name": "stderr",
     "output_type": "stream",
     "text": [
      "[NbConvertApp] Writing 8652 bytes to 01_Intro.py\n"
     ]
    },
    {
     "name": "stdout",
     "output_type": "stream",
     "text": [
      "2021-10-15 15:37:04,445 (INFO): Adding stage 'RandomNumer' in 'dvc.yaml'\n",
      "\n",
      "To track the changes with git, run:\n",
      "\n",
      "\tgit add outs/.gitignore dvc.yaml\n",
      "\n"
     ]
    }
   ],
   "source": [
    "from pytrack import DVC\n",
    "from random import randrange\n",
    "\n",
    "@PyTrack()\n",
    "class RandomNumer:\n",
    "    number = DVC.result()\n",
    "    \n",
    "    def run(self):\n",
    "        self.number = randrange(10)\n",
    "\n",
    "random_number = RandomNumer()\n",
    "random_number()"
   ]
  },
  {
   "cell_type": "markdown",
   "metadata": {},
   "source": [
    "We can access the outcome of our stage by passing `load=True`. Doing this on our stage will give us a warning and simply return None.\n",
    "This is, because we haven't actually executed the `run` method yet. Again, this is done via `dvc repro`"
   ]
  },
  {
   "cell_type": "code",
   "execution_count": 7,
   "metadata": {},
   "outputs": [
    {
     "name": "stdout",
     "output_type": "stream",
     "text": [
      "2021-10-15 15:37:04,460 (WARNING): No results found!\n"
     ]
    }
   ],
   "source": [
    "RandomNumer(load=True).number"
   ]
  },
  {
   "cell_type": "code",
   "execution_count": 8,
   "metadata": {},
   "outputs": [
    {
     "name": "stdout",
     "output_type": "stream",
     "text": [
      "Running stage 'RandomNumer':                                          core\u001b[39m>\n",
      "> python3 -c \"from src.RandomNumer import RandomNumer; RandomNumer(load=True).run()\"\n",
      "2021-10-15 15:37:06,682 (WARNING): No results found!\n",
      "Updating lock file 'dvc.lock'                                                   \n",
      "\n",
      "Stage 'Stage0' didn't change, skipping\n",
      "\n",
      "To track the changes with git, run:\n",
      "\n",
      "\tgit add dvc.lock\n",
      "Use `dvc push` to send your updates to remote storage.\n",
      "\u001b[0m"
     ]
    }
   ],
   "source": [
    "!dvc repro"
   ]
  },
  {
   "cell_type": "markdown",
   "metadata": {},
   "source": [
    "Now we can have a look at our result and work with it."
   ]
  },
  {
   "cell_type": "code",
   "execution_count": 9,
   "metadata": {},
   "outputs": [
    {
     "data": {
      "text/plain": [
       "6"
      ]
     },
     "execution_count": 9,
     "metadata": {},
     "output_type": "execute_result"
    }
   ],
   "source": [
    "RandomNumer(load=True).number"
   ]
  },
  {
   "cell_type": "markdown",
   "metadata": {},
   "source": [
    "Because we are using DVC, rerunnig the stage via `dvc repro` will not result in a new computation, but instead it will use the cached value.\n",
    "Changing this is explained later."
   ]
  },
  {
   "cell_type": "markdown",
   "metadata": {},
   "source": [
    "### PyTrack arguments\n",
    "Currently our stage will always yield a random number in the hard coded range 0-9.\n",
    "PyTrack stages become increasingly more interesting when introducing custom parameters. We can now start by adding a maximum value to our stage.\n"
   ]
  },
  {
   "cell_type": "code",
   "execution_count": 10,
   "metadata": {},
   "outputs": [
    {
     "name": "stdout",
     "output_type": "stream",
     "text": [
      "2021-10-15 15:37:07,340 (WARNING): Jupyter support is an experimental feature! Please save your notebook before running this command!\n",
      "Submit issues to https://github.com/zincware/py-track.\n"
     ]
    },
    {
     "name": "stderr",
     "output_type": "stream",
     "text": [
      "[NbConvertApp] Converting notebook 01_Intro.ipynb to script\n"
     ]
    },
    {
     "name": "stdout",
     "output_type": "stream",
     "text": [
      "2021-10-15 15:37:10,348 (WARNING): --- Writing new DVC file! ---\n",
      "2021-10-15 15:37:10,349 (WARNING): Overwriting existing configuration!\n"
     ]
    },
    {
     "name": "stderr",
     "output_type": "stream",
     "text": [
      "[NbConvertApp] Writing 8652 bytes to 01_Intro.py\n"
     ]
    },
    {
     "name": "stdout",
     "output_type": "stream",
     "text": [
      "2021-10-15 15:37:13,309 (INFO): Adding stage 'MaxRandomNumer' in 'dvc.yaml'\n",
      "\n",
      "To track the changes with git, run:\n",
      "\n",
      "\tgit add outs/.gitignore dvc.yaml\n",
      "\n"
     ]
    }
   ],
   "source": [
    "@PyTrack()\n",
    "class MaxRandomNumer:\n",
    "    number = DVC.result()\n",
    "    maximum = DVC.params()\n",
    "    \n",
    "    def __call__(self, maximum):\n",
    "        self.maximum = maximum\n",
    "    \n",
    "    def run(self):\n",
    "        self.number = randrange(self.maximum)\n",
    "\n",
    "max_random_number = MaxRandomNumer()\n",
    "max_random_number(maximum=512)"
   ]
  },
  {
   "cell_type": "code",
   "execution_count": 11,
   "metadata": {},
   "outputs": [
    {
     "name": "stdout",
     "output_type": "stream",
     "text": [
      "Running stage 'MaxRandomNumer':                                       core\u001b[39m>\n",
      "> python3 -c \"from src.MaxRandomNumer import MaxRandomNumer; MaxRandomNumer(load=True).run()\"\n",
      "2021-10-15 15:37:15,560 (WARNING): No results found!\n",
      "Updating lock file 'dvc.lock'                                                   \n",
      "\n",
      "Stage 'RandomNumer' didn't change, skipping\n",
      "Stage 'Stage0' didn't change, skipping\n",
      "\n",
      "To track the changes with git, run:\n",
      "\n",
      "\tgit add dvc.lock\n",
      "Use `dvc push` to send your updates to remote storage.\n",
      "\u001b[0m"
     ]
    }
   ],
   "source": [
    "!dvc repro"
   ]
  },
  {
   "cell_type": "code",
   "execution_count": 12,
   "metadata": {},
   "outputs": [
    {
     "data": {
      "text/plain": [
       "448"
      ]
     },
     "execution_count": 12,
     "metadata": {},
     "output_type": "execute_result"
    }
   ],
   "source": [
    "MaxRandomNumer(load=True).number"
   ]
  },
  {
   "cell_type": "markdown",
   "metadata": {},
   "source": [
    "### Custom Types and Files\n",
    "\n",
    "When using Arguments PyTrack can handle the most basic python types and also some more complex ones like `pathlib.Path`.\n",
    "In the following example we introduce using paths as arguments and writing data to a custom output file.\n",
    "Therefore we can use `DVC.outs`"
   ]
  },
  {
   "cell_type": "code",
   "execution_count": 13,
   "metadata": {},
   "outputs": [
    {
     "name": "stdout",
     "output_type": "stream",
     "text": [
      "2021-10-15 15:37:16,241 (WARNING): Jupyter support is an experimental feature! Please save your notebook before running this command!\n",
      "Submit issues to https://github.com/zincware/py-track.\n"
     ]
    },
    {
     "name": "stderr",
     "output_type": "stream",
     "text": [
      "[NbConvertApp] Converting notebook 01_Intro.ipynb to script\n"
     ]
    },
    {
     "name": "stdout",
     "output_type": "stream",
     "text": [
      "2021-10-15 15:37:19,350 (WARNING): --- Writing new DVC file! ---\n",
      "2021-10-15 15:37:19,351 (WARNING): Overwriting existing configuration!\n"
     ]
    },
    {
     "name": "stderr",
     "output_type": "stream",
     "text": [
      "[NbConvertApp] Writing 8652 bytes to 01_Intro.py\n"
     ]
    },
    {
     "name": "stdout",
     "output_type": "stream",
     "text": [
      "2021-10-15 15:37:22,503 (INFO): Adding stage 'WriteToFile' in 'dvc.yaml'\n",
      "\n",
      "To track the changes with git, run:\n",
      "\n",
      "\tgit add outs/.gitignore dvc.yaml\n",
      "\n"
     ]
    }
   ],
   "source": [
    "from pathlib import Path\n",
    "\n",
    "@PyTrack()\n",
    "class WriteToFile:\n",
    "    filename: Path = DVC.outs()\n",
    "    \n",
    "    def __call__(self, filename: Path):\n",
    "        self.filename = filename\n",
    "    \n",
    "    def run(self):\n",
    "        self.filename.write_text('Lorem Ipsum')\n",
    "        \n",
    "    def read_from_file(self):\n",
    "        print(self.filename.read_text())\n",
    "\n",
    "write_to_file = WriteToFile()\n",
    "write_to_file(filename=Path(\"outs\", \"example.txt\"))"
   ]
  },
  {
   "cell_type": "code",
   "execution_count": 14,
   "metadata": {},
   "outputs": [
    {
     "name": "stdout",
     "output_type": "stream",
     "text": [
      "Stage 'MaxRandomNumer' didn't change, skipping                        core\u001b[39m>\n",
      "Stage 'Stage0' didn't change, skipping\n",
      "Stage 'RandomNumer' didn't change, skipping\n",
      "Running stage 'WriteToFile':\n",
      "> python3 -c \"from src.WriteToFile import WriteToFile; WriteToFile(load=True).run()\"\n",
      "2021-10-15 15:37:24,915 (WARNING): No results found!\n",
      "Updating lock file 'dvc.lock'                                                   \n",
      "\n",
      "To track the changes with git, run:\n",
      "\n",
      "\tgit add dvc.lock\n",
      "Use `dvc push` to send your updates to remote storage.\n",
      "\u001b[0m"
     ]
    }
   ],
   "source": [
    "!dvc repro"
   ]
  },
  {
   "cell_type": "markdown",
   "metadata": {},
   "source": [
    "We can see, that a file in `outs` with our filename has been created. The file can be generated anywhere inside the DVC repository, but using the already exising `outs` directory can be handy.\n",
    "We can again load the stage and have a look at the filename and read from it."
   ]
  },
  {
   "cell_type": "code",
   "execution_count": 15,
   "metadata": {},
   "outputs": [
    {
     "data": {
      "text/plain": [
       "PosixPath('outs/example.txt')"
      ]
     },
     "execution_count": 15,
     "metadata": {},
     "output_type": "execute_result"
    }
   ],
   "source": [
    "WriteToFile(load=True).filename"
   ]
  },
  {
   "cell_type": "code",
   "execution_count": 16,
   "metadata": {},
   "outputs": [
    {
     "name": "stdout",
     "output_type": "stream",
     "text": [
      "Lorem Ipsum\n"
     ]
    }
   ],
   "source": [
    "WriteToFile(load=True).read_from_file()"
   ]
  },
  {
   "cell_type": "markdown",
   "metadata": {},
   "source": [
    "### PyTrack Init\n",
    "\n",
    "As you may have already noticed we have not created an `__init__` yet. Arguments are passed to the `__call__` and `PyTrackOptions` (DVC.<...>) are defined on a class level. The following example will illustrate, why using the `__init__` can lead to confusing results.\n",
    "Therefore we need to keep in mind, that DVC runs the follwing command: \n",
    "\n",
    "    python3 -c \"from src.Stage0 import Stage0; Stage0(load=True).run()\"\n",
    "    \n",
    "which we will use to imitate `dvc repro` in the following."
   ]
  },
  {
   "cell_type": "code",
   "execution_count": 17,
   "metadata": {},
   "outputs": [
    {
     "name": "stdout",
     "output_type": "stream",
     "text": [
      "2021-10-15 15:37:25,706 (WARNING): Jupyter support is an experimental feature! Please save your notebook before running this command!\n",
      "Submit issues to https://github.com/zincware/py-track.\n"
     ]
    },
    {
     "name": "stderr",
     "output_type": "stream",
     "text": [
      "[NbConvertApp] Converting notebook 01_Intro.ipynb to script\n",
      "[NbConvertApp] Writing 8652 bytes to 01_Intro.py\n"
     ]
    }
   ],
   "source": [
    "@PyTrack()\n",
    "class InitStage:\n",
    "    def __init__(self, value = \"Not defined\"):\n",
    "        self.value = value\n",
    "        \n",
    "    def run(self):\n",
    "        print(self.value)"
   ]
  },
  {
   "cell_type": "code",
   "execution_count": 18,
   "metadata": {},
   "outputs": [
    {
     "name": "stdout",
     "output_type": "stream",
     "text": [
      "2021-10-15 15:37:28,839 (WARNING): --- Writing new DVC file! ---\n",
      "2021-10-15 15:37:28,840 (WARNING): Overwriting existing configuration!\n",
      "2021-10-15 15:37:31,662 (INFO): Adding stage 'InitStage' in 'dvc.yaml'\n",
      "\n",
      "To track the changes with git, run:\n",
      "\n",
      "\tgit add dvc.yaml outs/.gitignore\n",
      "\n",
      "Lorem Ipsum\n"
     ]
    }
   ],
   "source": [
    "init_stage = InitStage(value='Lorem Ipsum')\n",
    "init_stage()\n",
    "print(init_stage.value)"
   ]
  },
  {
   "cell_type": "code",
   "execution_count": 19,
   "metadata": {},
   "outputs": [
    {
     "name": "stdout",
     "output_type": "stream",
     "text": [
      "2021-10-15 15:37:31,679 (WARNING): No results found!\n",
      "Not defined\n"
     ]
    }
   ],
   "source": [
    "InitStage(load=True).run()"
   ]
  },
  {
   "cell_type": "markdown",
   "metadata": {},
   "source": [
    "We can see, that our passed value is not available during the command that is executed by `DVC`. This is important to keep in mind, when using PyTrack. The issue can be easily solved by using `DVC.params()`. Altough possible, it should be avoided to define them within the `__init__` and go for class level definitions. Nevertheless, the `__init__` can be used for e.g., defining class attributes or setting `PyTrackOption`.\n",
    "We can therefore extend our `MaxRandomNumber` in the following way by a constand minimum value:"
   ]
  },
  {
   "cell_type": "code",
   "execution_count": 20,
   "metadata": {},
   "outputs": [
    {
     "name": "stdout",
     "output_type": "stream",
     "text": [
      "2021-10-15 15:37:31,688 (WARNING): Jupyter support is an experimental feature! Please save your notebook before running this command!\n",
      "Submit issues to https://github.com/zincware/py-track.\n"
     ]
    },
    {
     "name": "stderr",
     "output_type": "stream",
     "text": [
      "[NbConvertApp] Converting notebook 01_Intro.ipynb to script\n"
     ]
    },
    {
     "name": "stdout",
     "output_type": "stream",
     "text": [
      "2021-10-15 15:37:34,699 (WARNING): --- Writing new DVC file! ---\n",
      "2021-10-15 15:37:34,700 (WARNING): Overwriting existing configuration!\n"
     ]
    },
    {
     "name": "stderr",
     "output_type": "stream",
     "text": [
      "[NbConvertApp] Writing 8652 bytes to 01_Intro.py\n"
     ]
    },
    {
     "name": "stdout",
     "output_type": "stream",
     "text": [
      "2021-10-15 15:37:37,769 (INFO): Adding stage 'InitMaxRandomNumer' in 'dvc.yaml'\n",
      "\n",
      "To track the changes with git, run:\n",
      "\n",
      "\tgit add dvc.yaml outs/.gitignore\n",
      "\n"
     ]
    }
   ],
   "source": [
    "@PyTrack()\n",
    "class InitMaxRandomNumer:\n",
    "    number = DVC.result()\n",
    "    maximum = DVC.params()\n",
    "    \n",
    "    def __init__(self):\n",
    "        self.minimum = 0\n",
    "    \n",
    "    def __call__(self, maximum):\n",
    "        self.maximum = maximum\n",
    "        \n",
    "    def run(self):\n",
    "        self.number = randrange(self.minimum, self.maximum)\n",
    "\n",
    "init_max_random_number = InitMaxRandomNumer()\n",
    "init_max_random_number(maximum=512)"
   ]
  },
  {
   "cell_type": "code",
   "execution_count": 21,
   "metadata": {},
   "outputs": [
    {
     "name": "stdout",
     "output_type": "stream",
     "text": [
      "Running stage 'InitStage':                                            core\u001b[39m>\n",
      "> python3 -c \"from src.InitStage import InitStage; InitStage(load=True).run()\"\n",
      "2021-10-15 15:37:39,957 (WARNING): No results found!\n",
      "Not defined\n",
      "Updating lock file 'dvc.lock'                                                   \n",
      "\n",
      "Stage 'Stage0' didn't change, skipping\n",
      "Stage 'MaxRandomNumer' didn't change, skipping\n",
      "Stage 'RandomNumer' didn't change, skipping\n",
      "Stage 'WriteToFile' didn't change, skipping\n",
      "Running stage 'InitMaxRandomNumer':\n",
      "> python3 -c \"from src.InitMaxRandomNumer import InitMaxRandomNumer; InitMaxRandomNumer(load=True).run()\"\n",
      "2021-10-15 15:37:41,006 (WARNING): No results found!\n",
      "Updating lock file 'dvc.lock'                                                   \n",
      "\n",
      "To track the changes with git, run:\n",
      "\n",
      "\tgit add dvc.lock\n",
      "Use `dvc push` to send your updates to remote storage.\n",
      "\u001b[0m"
     ]
    }
   ],
   "source": [
    "!dvc repro"
   ]
  },
  {
   "cell_type": "code",
   "execution_count": 22,
   "metadata": {},
   "outputs": [
    {
     "data": {
      "text/plain": [
       "208"
      ]
     },
     "execution_count": 22,
     "metadata": {},
     "output_type": "execute_result"
    }
   ],
   "source": [
    "InitMaxRandomNumer(load=True).number"
   ]
  },
  {
   "cell_type": "markdown",
   "metadata": {},
   "source": [
    "Because this is a essential property of PyTrack and differs from most other Python code the following example DOES NOT work, because dvc will try to run `InitMaxRandomNumer(load=True).run()` without passing a value to `maximum` and therefore resulting in an error!"
   ]
  },
  {
   "cell_type": "markdown",
   "metadata": {},
   "source": [
    "```python\n",
    "\n",
    "@PyTrack()\n",
    "class InitMaxRandomNumerWrong:\n",
    "    number = DVC.result()\n",
    "    maximum = DVC.params()\n",
    "    \n",
    "    def __init__(self, maximum):\n",
    "        self.minimum = 0\n",
    "        self.maximum = maximum\n",
    "        \n",
    "    def run(self):\n",
    "        self.number = randrange(self.minimum, self.maximum)\n",
    "```"
   ]
  },
  {
   "cell_type": "markdown",
   "metadata": {},
   "source": [
    "what does work would be the follwing version. But for code clearity it should be avoided if possible and the `__call__` should be utilized.\n",
    "Sometimes a combined approach might be inevitable, because e.g., upon class instatiation a generated value shall be passed and later a user value."
   ]
  },
  {
   "cell_type": "code",
   "execution_count": 23,
   "metadata": {},
   "outputs": [
    {
     "name": "stdout",
     "output_type": "stream",
     "text": [
      "2021-10-15 15:37:41,603 (WARNING): Jupyter support is an experimental feature! Please save your notebook before running this command!\n",
      "Submit issues to https://github.com/zincware/py-track.\n"
     ]
    },
    {
     "name": "stderr",
     "output_type": "stream",
     "text": [
      "[NbConvertApp] Converting notebook 01_Intro.ipynb to script\n",
      "[NbConvertApp] Writing 8652 bytes to 01_Intro.py\n"
     ]
    }
   ],
   "source": [
    "@PyTrack()\n",
    "class InitMaxRandomNumerCheaty:\n",
    "    number = DVC.result()\n",
    "    maximum = DVC.params()\n",
    "    \n",
    "    def __init__(self, maximum = None):\n",
    "        self.minimum = 0\n",
    "        if maximum is not None:\n",
    "            self.maximum = maximum\n",
    "        \n",
    "    def run(self):\n",
    "        self.number = randrange(self.minimum, self.maximum)"
   ]
  },
  {
   "cell_type": "code",
   "execution_count": 24,
   "metadata": {},
   "outputs": [
    {
     "name": "stdout",
     "output_type": "stream",
     "text": [
      "2021-10-15 15:37:44,539 (WARNING): --- Writing new DVC file! ---\n",
      "2021-10-15 15:37:44,539 (WARNING): Overwriting existing configuration!\n",
      "2021-10-15 15:37:47,448 (INFO): Adding stage 'InitMaxRandomNumerCheaty' in 'dvc.yaml'\n",
      "\n",
      "To track the changes with git, run:\n",
      "\n",
      "\tgit add outs/.gitignore dvc.yaml\n",
      "\n",
      "Stage 'Stage0' didn't change, skipping                                core\u001b[39m>\n",
      "Running stage 'InitMaxRandomNumerCheaty':\n",
      "> python3 -c \"from src.InitMaxRandomNumerCheaty import InitMaxRandomNumerCheaty; InitMaxRandomNumerCheaty(load=True).run()\"\n",
      "2021-10-15 15:37:49,754 (WARNING): No results found!\n",
      "Updating lock file 'dvc.lock'                                                   \n",
      "\n",
      "Stage 'InitStage' didn't change, skipping\n",
      "Stage 'RandomNumer' didn't change, skipping\n",
      "Stage 'InitMaxRandomNumer' didn't change, skipping\n",
      "Stage 'WriteToFile' didn't change, skipping\n",
      "Stage 'MaxRandomNumer' didn't change, skipping\n",
      "\n",
      "To track the changes with git, run:\n",
      "\n",
      "\tgit add dvc.lock\n",
      "Use `dvc push` to send your updates to remote storage.\n",
      "\u001b[0m"
     ]
    }
   ],
   "source": [
    "init_max_random_number_cheaty = InitMaxRandomNumerCheaty(maximum=4096)\n",
    "init_max_random_number_cheaty()\n",
    "!dvc repro"
   ]
  },
  {
   "cell_type": "code",
   "execution_count": 25,
   "metadata": {},
   "outputs": [
    {
     "data": {
      "text/plain": [
       "723"
      ]
     },
     "execution_count": 25,
     "metadata": {},
     "output_type": "execute_result"
    }
   ],
   "source": [
    "InitMaxRandomNumerCheaty(load=True).number"
   ]
  }
 ],
 "metadata": {
  "kernelspec": {
   "display_name": "Python 3 (ipykernel)",
   "language": "python",
   "name": "python3"
  },
  "language_info": {
   "codemirror_mode": {
    "name": "ipython",
    "version": 3
   },
   "file_extension": ".py",
   "mimetype": "text/x-python",
   "name": "python",
   "nbconvert_exporter": "python",
   "pygments_lexer": "ipython3",
   "version": "3.9.7"
  }
 },
 "nbformat": 4,
 "nbformat_minor": 4
}
