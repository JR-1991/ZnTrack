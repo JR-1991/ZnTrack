{
 "cells": [
  {
   "cell_type": "markdown",
   "metadata": {
    "collapsed": true,
    "pycharm": {
     "name": "#%% md\n"
    }
   },
   "source": [
    "# Working with child classes\n",
    "\n",
    "In some scenarios it is necessary to pass work with an instance of a class within PyTrack.\n",
    "In the following is a possible scenario in how such things can be handled."
   ]
  },
  {
   "cell_type": "code",
   "execution_count": 1,
   "metadata": {
    "pycharm": {
     "name": "#%%\n"
    }
   },
   "outputs": [],
   "source": [
    "# We are working in a temporary directory for easier cleanup\n",
    "import os\n",
    "import shutil\n",
    "from tempfile import TemporaryDirectory\n",
    "from pytrack import PyTrackProject\n",
    "\n",
    "temp_dir = TemporaryDirectory()\n",
    "cwd = os.getcwd()\n",
    "\n",
    "shutil.copy(\"PassingClasses.ipynb\", temp_dir.name)\n",
    "\n",
    "os.chdir(temp_dir.name)\n",
    "\n",
    "project = PyTrackProject()\n",
    "project.create_dvc_repository()"
   ]
  },
  {
   "cell_type": "code",
   "execution_count": 2,
   "metadata": {
    "pycharm": {
     "name": "#%%\n"
    }
   },
   "outputs": [
    {
     "name": "stderr",
     "output_type": "stream",
     "text": [
      "Jupyter support is an experimental feature! Please save your notebook before running this command!\n",
      "Submit issues to https://github.com/zincware/py-track.\n"
     ]
    }
   ],
   "source": [
    "from pytrack import PyTrack, DVC\n",
    "import inspect\n",
    "\n",
    "class Operation1:\n",
    "    \"\"\"\n",
    "    An implementation or algorithm you want to \n",
    "    be tracked by py-track.\n",
    "    \"\"\"\n",
    "    def __init__(self, factor):\n",
    "        self.factor = factor\n",
    "\n",
    "    def convert_input(self, inp):\n",
    "        return inp * self.factor\n",
    "\n",
    "class Operation2:\n",
    "    \"\"\"\n",
    "    Another implementation or algorithm you want to \n",
    "    be tracked by py-track. should accomplish the same\n",
    "    goal as Operation1 but perhaps in a different way.\n",
    "    \"\"\"\n",
    "    def __init__(self, factor, shift):\n",
    "        self.factor = factor\n",
    "        self.shift = shift\n",
    "\n",
    "    def convert_input(self, inp):\n",
    "        return inp * self.factor + self.shift\n",
    "\n",
    "\n",
    "@PyTrack(nb_name=\"PassingClasses.ipynb\")\n",
    "class ChildHandler:\n",
    "    \"\"\"\n",
    "    PyTrack enabled class which handles calling the\n",
    "    implementations.\n",
    "    \"\"\"\n",
    "    def __init__(self):\n",
    "        \"\"\"\n",
    "        Standard constructor for the class where the\n",
    "        different operations are given as attributes.\n",
    "        \n",
    "        Beyond defining the operations, inputs and outputs\n",
    "        are also set as DVC trackable attributes.\n",
    "        \"\"\"\n",
    "        self.methods = {\n",
    "            Operation1.__name__: Operation1,\n",
    "            Operation2.__name__: Operation2\n",
    "        }\n",
    "\n",
    "        self.operation = DVC.params()\n",
    "        self.operation_parameter = DVC.params()\n",
    "        self.input = DVC.params()\n",
    "        self.output = DVC.result()\n",
    "\n",
    "    def __call__(self, operation: object, inp):\n",
    "        \"\"\"\n",
    "        This is what will be called when you run the\n",
    "        script. For example:\n",
    "            data = ChildHandler(Operation1(), ...)\n",
    "        Calling of this class will add it to the \n",
    "        computation graph which is later executed.\n",
    "        \"\"\"\n",
    "        self.operation = operation.__class__.__name__\n",
    "        operation_parameter = {}\n",
    "        for key in inspect.signature(operation.__class__.__init__).parameters:\n",
    "            if key == \"self\":\n",
    "                continue\n",
    "            operation_parameter[key] = getattr(operation, key)\n",
    "        self.operation_parameter = operation_parameter\n",
    "        # Note we have to use \"=\" here and can not update it iteratively!\n",
    "\n",
    "        self.input = inp\n",
    "    def run(self):\n",
    "        \"\"\"\n",
    "        Called on the backed to execute the methods in\n",
    "        one of the child classes. In this case, the \n",
    "        method we want to run in the child class is \n",
    "        called convert_input.\n",
    "        \"\"\"\n",
    "        Operation = self.methods[self.operation]\n",
    "        operation = Operation(**self.operation_parameter)\n",
    "\n",
    "        self.output = operation.convert_input(self.input)"
   ]
  },
  {
   "cell_type": "markdown",
   "metadata": {
    "pycharm": {
     "name": "#%% md\n"
    }
   },
   "source": [
    "We are using `inspect.signature` and assume that the class attributes have the same name as the `__init__`\n",
    " parameters.\n",
    " They can be changed in any way though.\n",
    "\n",
    "Let us now use both passed child methods and see how it works out."
   ]
  },
  {
   "cell_type": "code",
   "execution_count": 3,
   "metadata": {
    "pycharm": {
     "name": "#%%\n"
    }
   },
   "outputs": [
    {
     "name": "stderr",
     "output_type": "stream",
     "text": [
      "Used mutable type dict for params! Always overwrite the params and don't alter it otherwise! It won't work.\n",
      "No results found!\n",
      "--- Writing new DVC file! ---\n",
      "Overwriting existing configuration!\n",
      "Result can only be changed within `run` call!\n",
      "Used mutable type dict for params! Always overwrite the params and don't alter it otherwise! It won't work.\n",
      "No results found!\n",
      "--- Writing new DVC file! ---\n",
      "Overwriting existing configuration!\n"
     ]
    }
   ],
   "source": [
    "child_handler = ChildHandler()\n",
    "operation = Operation1(factor=3)\n",
    "child_handler(operation=operation, inp=15)\n",
    "\n",
    "project.queue(name=\"Op1\")\n",
    "\n",
    "child_handler = ChildHandler()\n",
    "operation = Operation2(factor=2, shift=500)\n",
    "child_handler(operation=operation, inp=15)\n",
    "\n",
    "project.queue(name=\"Op2\")\n",
    "project.run_all()"
   ]
  },
  {
   "cell_type": "markdown",
   "metadata": {
    "pycharm": {
     "name": "#%% md\n"
    }
   },
   "source": [
    "We can now load them and see the results"
   ]
  },
  {
   "cell_type": "code",
   "execution_count": 8,
   "metadata": {
    "pycharm": {
     "name": "#%%\n"
    }
   },
   "outputs": [
    {
     "name": "stdout",
     "output_type": "stream",
     "text": [
      "{'factor': 3}\n",
      "45\n"
     ]
    }
   ],
   "source": [
    "project.load(\"Op1\")\n",
    "print(child_handler.operation_parameter)\n",
    "print(child_handler.output)"
   ]
  },
  {
   "cell_type": "code",
   "execution_count": 9,
   "metadata": {
    "pycharm": {
     "name": "#%%\n"
    }
   },
   "outputs": [
    {
     "name": "stdout",
     "output_type": "stream",
     "text": [
      "{'factor': 2, 'shift': 500}\n",
      "530\n"
     ]
    }
   ],
   "source": [
    "project.load(\"Op2\")\n",
    "print(child_handler.operation_parameter)\n",
    "print(child_handler.output)"
   ]
  },
  {
   "cell_type": "markdown",
   "metadata": {
    "pycharm": {
     "name": "#%% md\n"
    }
   },
   "source": [
    "This nested methods can get arbitrarily complicated, having different dependencies and outputs.\n",
    "In that case it might be useful to have a common parent class and loop over e.g., a list of dependecies as such:"
   ]
  },
  {
   "cell_type": "code",
   "execution_count": 18,
   "metadata": {
    "pycharm": {
     "name": "#%%\n"
    }
   },
   "outputs": [],
   "source": [
    "class Operation:\n",
    "    def __init__(self):\n",
    "        self.dependencies = []\n",
    "        self.outs = []\n",
    "\n",
    "class Operation3(Operation):\n",
    "    def __init__(self):\n",
    "        super().__init__()\n",
    "        self.dependencies = ['File1', 'File2', 'File3']\n",
    "        self.outs = ['Out1.txt', 'Out2.txt']\n",
    "\n",
    "@PyTrack()\n",
    "class ChildHandler:\n",
    "    def __init__(self):\n",
    "        self.methods = {\n",
    "            Operation3.__name__: Operation3\n",
    "        }\n",
    "        self.method = DVC.params()\n",
    "        self.deps = DVC.deps()\n",
    "        self.outs = DVC.outs()\n",
    "\n",
    "    def __call__(self, operation: Operation):\n",
    "        self.deps = [x for x in operation.dependencies]\n",
    "        self.outs = [x for x in operation.outs]\n",
    "\n",
    "    def run(self):\n",
    "        method = self.methods[self.method]\n",
    "        method.outs = self.outs\n",
    "        # this is required because it adapts the paths to the correct directory!\n",
    "        # It also converts them into pathlib.Path objects."
   ]
  },
  {
   "cell_type": "markdown",
   "metadata": {
    "pycharm": {
     "name": "#%% md\n"
    }
   },
   "source": [
    "Now we can pass our custom operation with a list of dependencies and outputs"
   ]
  },
  {
   "cell_type": "code",
   "execution_count": 19,
   "metadata": {
    "pycharm": {
     "name": "#%%\n"
    }
   },
   "outputs": [
    {
     "name": "stderr",
     "output_type": "stream",
     "text": [
      "Used mutable type list for deps! Always overwrite the deps and don't append to it! It won't work.\n",
      "Used mutable type list for outs! Always overwrite the outs and don't append to it! It won't work.\n",
      "--- Writing new DVC file! ---\n",
      "Overwriting existing configuration!\n"
     ]
    }
   ],
   "source": [
    "child_handler = ChildHandler()\n",
    "operation = Operation3()\n",
    "child_handler(operation)"
   ]
  },
  {
   "cell_type": "markdown",
   "metadata": {
    "pycharm": {
     "name": "#%% md\n"
    }
   },
   "source": [
    "If we now look at the PyTrack dependencies and outputs they are all set correctly."
   ]
  },
  {
   "cell_type": "code",
   "execution_count": 20,
   "metadata": {
    "pycharm": {
     "name": "#%%\n"
    }
   },
   "outputs": [
    {
     "name": "stdout",
     "output_type": "stream",
     "text": [
      "[PosixPath('File1'), PosixPath('File2'), PosixPath('File3')]\n",
      "[PosixPath('outs/Out1.txt'), PosixPath('outs/Out2.txt')]\n"
     ]
    }
   ],
   "source": [
    "print(child_handler.deps)\n",
    "print(child_handler.outs)"
   ]
  },
  {
   "cell_type": "code",
   "execution_count": 21,
   "metadata": {
    "pycharm": {
     "name": "#%%\n"
    }
   },
   "outputs": [],
   "source": [
    "# Cleanup\n",
    "temp_dir.cleanup()"
   ]
  }
 ],
 "metadata": {
  "kernelspec": {
   "display_name": "Python 3",
   "language": "python",
   "name": "python3"
  },
  "language_info": {
   "codemirror_mode": {
    "name": "ipython",
    "version": 3
   },
   "file_extension": ".py",
   "mimetype": "text/x-python",
   "name": "python",
   "nbconvert_exporter": "python",
   "pygments_lexer": "ipython3",
   "version": "3.8.10"
  }
 },
 "nbformat": 4,
 "nbformat_minor": 1
}
