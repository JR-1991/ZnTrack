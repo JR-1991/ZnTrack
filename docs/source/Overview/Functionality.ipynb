{
 "cells": [
  {
   "cell_type": "markdown",
   "metadata": {
    "collapsed": true,
    "pycharm": {
     "name": "#%% md\n"
    }
   },
   "source": [
    "# Functionality\n",
    "## PyTrack\n",
    "\n",
    "The `@PyTrack()` decorator is the main part of PyTrack.\n",
    "It converts a class into DVC stage and enables the tracking.\n",
    "Therefore, the class must implement an `__init__`, `__call__` and `run` method."
   ]
  },
  {
   "cell_type": "code",
   "execution_count": 1,
   "outputs": [],
   "source": [
    "from pytrack import PyTrack\n",
    "\n",
    "@PyTrack()\n",
    "class HelloWorld:\n",
    "    def __init__(self):\n",
    "        pass\n",
    "    def __call__(self, *args, **kwargs):\n",
    "        pass\n",
    "    def run(self):\n",
    "        pass\n",
    "\n",
    "hello_world = HelloWorld()"
   ],
   "metadata": {
    "collapsed": false,
    "pycharm": {
     "name": "#%%\n"
    }
   }
  },
  {
   "cell_type": "markdown",
   "source": [
    "The decorator adds the `pytrack` attribute to the passed class, which contains most of the required methods.\n",
    "This is used internally and usually does not require any changes.\n",
    "Furthermore, it is protected against accidental overwriting.\n"
   ],
   "metadata": {
    "collapsed": false,
    "pycharm": {
     "name": "#%% md\n"
    }
   }
  },
  {
   "cell_type": "code",
   "execution_count": 2,
   "outputs": [
    {
     "name": "stdout",
     "output_type": "stream",
     "text": [
      "{'child': <__main__.HelloWorld object at 0x000002B781273190>, 'slurm_config': SlurmConfig(n=1), '_id': 0, '_running': False, '_module': None, 'dvc_file': 'dvc.yaml', 'was_called': False, 'allow_param_change': True, 'allow_result_change': False, 'dvc': DVCParams(multi_use=False, params_file=WindowsPath('config/params.json'), internals_file=WindowsPath('config/pytrack.json'), json_file=None, deps=[], outs=[], outs_path=WindowsPath('outs'), outs_no_cache=[], outs_no_cache_path=WindowsPath('outs'), outs_persistent=[], outs_persistent_path=WindowsPath('outs'), metrics=[], metrics_path=WindowsPath('metrics'), metrics_no_cache=[], metrics_no_cache_path=WindowsPath('metrics'), plots=[], plots_path=WindowsPath('plots'), plots_no_cache=[], plots_no_cache_path=WindowsPath('plots')), 'nb_mode': False}\n",
      "AttributeError: can't set attribute\n"
     ]
    }
   ],
   "source": [
    "print(vars(hello_world.pytrack))\n",
    "\n",
    "try:\n",
    "    hello_world.pytrack = \"PyTrack\"\n",
    "except AttributeError:\n",
    "    print(\"AttributeError: can't set attribute\")"
   ],
   "metadata": {
    "collapsed": false,
    "pycharm": {
     "name": "#%%\n"
    }
   }
  },
  {
   "cell_type": "markdown",
   "source": [
    "Using PyTrack starts becoming more interesting when parameters, dependencies and outputs are defined.\n",
    "They will be explained in more detail in the upcoming tutorials.\n",
    "The basic principle is, that one defines them in the `__init__` using `from pytrack import DVC` and then updates the user input within the `__call__` and the outputs through `run`.\n",
    "There are two different types of outputs - `DVC.results` and e.g., `DVC.outs`.\n",
    "The first is a special PyTrack output, that is written to a json file.\n",
    "It requires JSON serializable data and is designed for smaller information, such as small lists, dictionaries, etc. .\n",
    "All other supported outputs, such as `DVC.outs` are purely `pathlib.Path` objects that have to be read manually."
   ],
   "metadata": {
    "collapsed": false,
    "pycharm": {
     "name": "#%% md\n"
    }
   }
  },
  {
   "cell_type": "code",
   "execution_count": 3,
   "outputs": [
    {
     "name": "stdout",
     "output_type": "stream",
     "text": [
      "outs\\some_file.txt\n",
      "{'name': 'HelloWorld', 'ids': [1, 2, 3, 4]}\n"
     ]
    }
   ],
   "source": [
    "from pytrack import DVC\n",
    "\n",
    "@PyTrack()\n",
    "class HelloWorld:\n",
    "    def __init__(self):\n",
    "        self.result = DVC.result()\n",
    "        self.output_file = DVC.outs('some_file.txt')\n",
    "\n",
    "    def __call__(self, *args, **kwargs):\n",
    "        pass\n",
    "    def run(self):\n",
    "        self.result = {'name': \"HelloWorld\", \"ids\": [1, 2, 3, 4, 5, 6]}\n",
    "        self.output_file.write_text(\"Lorem Ipsum\")\n",
    "\n",
    "hello_world = HelloWorld()\n",
    "# Let's have a look\n",
    "print(hello_world.output_file)\n",
    "print(hello_world.result)"
   ],
   "metadata": {
    "collapsed": false,
    "pycharm": {
     "name": "#%%\n"
    }
   }
  },
  {
   "cell_type": "markdown",
   "source": [
    "We can see that the output_file is put into a directory `outs` which is used by PyTrack to handle stage outputs.\n",
    "The directory is defined in"
   ],
   "metadata": {
    "collapsed": false,
    "pycharm": {
     "name": "#%% md\n"
    }
   }
  },
  {
   "cell_type": "code",
   "execution_count": 4,
   "outputs": [
    {
     "data": {
      "text/plain": "WindowsPath('outs')"
     },
     "execution_count": 4,
     "metadata": {},
     "output_type": "execute_result"
    }
   ],
   "source": [
    "hello_world.pytrack.dvc.outs_path"
   ],
   "metadata": {
    "collapsed": false,
    "pycharm": {
     "name": "#%%\n"
    }
   }
  },
  {
   "cell_type": "markdown",
   "source": [
    "At this point it should be highlighted, that the code, that writes to results or the other output files should be put or called from within the `run` method.\n",
    "It is of course possible to have additional functions, e.g., some post-evaluation of the results, but they will not be run by DVC and will not be tracked!"
   ],
   "metadata": {
    "collapsed": false,
    "pycharm": {
     "name": "#%% md\n"
    }
   }
  },
  {
   "cell_type": "code",
   "execution_count": 5,
   "outputs": [
    {
     "name": "stdout",
     "output_type": "stream",
     "text": [
      "Lorem Ipsum\n",
      "{'name': 'HelloWorld', 'ids': [1, 2, 3, 4, 5, 6]}\n"
     ]
    }
   ],
   "source": [
    "hello_world.run()\n",
    "\n",
    "print(hello_world.output_file.read_text())\n",
    "print(hello_world.result)"
   ],
   "metadata": {
    "collapsed": false,
    "pycharm": {
     "name": "#%%\n"
    }
   }
  },
  {
   "cell_type": "markdown",
   "source": [
    "It is not possible to overwrite the result outside of the `run` method anyway!"
   ],
   "metadata": {
    "collapsed": false,
    "pycharm": {
     "name": "#%% md\n"
    }
   }
  },
  {
   "cell_type": "code",
   "execution_count": 6,
   "outputs": [
    {
     "name": "stderr",
     "output_type": "stream",
     "text": [
      "Result can only be changed within `run` call!\n"
     ]
    },
    {
     "name": "stdout",
     "output_type": "stream",
     "text": [
      "{'name': 'HelloWorld', 'ids': [1, 2, 3, 4, 5, 6]}\n"
     ]
    }
   ],
   "source": [
    "hello_world.result = \"New Result\"\n",
    "print(hello_world.result)"
   ],
   "metadata": {
    "collapsed": false,
    "pycharm": {
     "name": "#%%\n"
    }
   }
  },
  {
   "cell_type": "markdown",
   "source": [
    "What is currently still missing from our example is any user input.\n",
    "We can add user interaction through `DVC.params` and the `__call__` method."
   ],
   "metadata": {
    "collapsed": false,
    "pycharm": {
     "name": "#%% md\n"
    }
   }
  },
  {
   "cell_type": "code",
   "execution_count": 7,
   "outputs": [
    {
     "name": "stderr",
     "output_type": "stream",
     "text": [
      "--- Writing new DVC file! ---\n",
      "Overwriting existing configuration!\n",
      "ERROR: you are not inside of a DVC repository (checked up to mount point 'C:\\')\r\n",
      "\n"
     ]
    },
    {
     "data": {
      "text/plain": "{'name': 'HelloWorld', 'ids': [0, 1, 2, 3, 4, 5, 6, 7, 8, 9]}"
     },
     "execution_count": 7,
     "metadata": {},
     "output_type": "execute_result"
    }
   ],
   "source": [
    "@PyTrack()\n",
    "class HelloWorld:\n",
    "    def __init__(self):\n",
    "        self.result = DVC.result()\n",
    "        self.output_file = DVC.outs('some_file.txt')\n",
    "        self.list_length = DVC.params() # you can pass a default here as DVC.params(10)\n",
    "\n",
    "    def __call__(self, list_length):\n",
    "        self.list_length = list_length\n",
    "\n",
    "    def run(self):\n",
    "        self.result = {'name': \"HelloWorld\", \"ids\": [x for x in range(self.list_length)]}\n",
    "        self.output_file.write_text(\"Lorem Ipsum\")\n",
    "\n",
    "hello_world = HelloWorld()\n",
    "hello_world(10)\n",
    "hello_world.run()\n",
    "hello_world.result"
   ],
   "metadata": {
    "collapsed": false,
    "pycharm": {
     "name": "#%%\n"
    }
   }
  },
  {
   "cell_type": "markdown",
   "source": [
    "Similar to the `DVC.results` the parameters can only be changed within the `__init__` or `__call__` method."
   ],
   "metadata": {
    "collapsed": false,
    "pycharm": {
     "name": "#%% md\n"
    }
   }
  },
  {
   "cell_type": "code",
   "execution_count": 8,
   "outputs": [
    {
     "name": "stderr",
     "output_type": "stream",
     "text": [
      "This stage is being loaded. No internals will be changed!\n"
     ]
    },
    {
     "data": {
      "text/plain": "10"
     },
     "execution_count": 8,
     "metadata": {},
     "output_type": "execute_result"
    }
   ],
   "source": [
    "hello_world.list_length = 27\n",
    "hello_world.list_length"
   ],
   "metadata": {
    "collapsed": false,
    "pycharm": {
     "name": "#%%\n"
    }
   }
  },
  {
   "cell_type": "markdown",
   "source": [
    "It is also possible to pass lists or dictionaries to the e.g., `DVC.params`"
   ],
   "metadata": {
    "collapsed": false,
    "pycharm": {
     "name": "#%% md\n"
    }
   }
  },
  {
   "cell_type": "code",
   "execution_count": 9,
   "outputs": [
    {
     "name": "stderr",
     "output_type": "stream",
     "text": [
      "Used mutable type list for outs! Always overwrite the outs and don't append to it! It won't work.\n",
      "Used mutable type list for outs! Always overwrite the outs and don't append to it! It won't work.\n",
      "Used mutable type dict for params! Always overwrite the params and don't alter it otherwise! It won't work.\n",
      "--- Writing new DVC file! ---\n",
      "Overwriting existing configuration!\n",
      "ERROR: you are not inside of a DVC repository (checked up to mount point 'C:\\')\r\n",
      "\n"
     ]
    },
    {
     "name": "stdout",
     "output_type": "stream",
     "text": [
      "{'name': 'HelloWorld', 'ids': [1, 2, 3, 4]}\n",
      "{'start': 1, 'stop': 5}\n",
      "[WindowsPath('outs/first_file.txt'), WindowsPath('outs/second_file.txt')]\n"
     ]
    }
   ],
   "source": [
    "@PyTrack()\n",
    "class HelloWorld:\n",
    "    def __init__(self):\n",
    "        self.result = DVC.result()\n",
    "        self.output_files = DVC.outs(['first_file.txt', 'second_file.txt'])\n",
    "        self.list_options = DVC.params() # you can pass a default here as DVC.params(10)\n",
    "\n",
    "    def __call__(self, list_options):\n",
    "        self.list_options = list_options\n",
    "\n",
    "    def run(self):\n",
    "        self.result = {\n",
    "            'name': \"HelloWorld\",\n",
    "            \"ids\": [x for x in range(self.list_options.get('start'), self.list_options.get('stop'))]\n",
    "        }\n",
    "        self.output_files[0].write_text(\"Lorem Ipsum\")\n",
    "        self.output_files[1].write_text(\"Example Value\")\n",
    "\n",
    "hello_world = HelloWorld()\n",
    "hello_world({'start': 1, 'stop':5})\n",
    "hello_world.run()\n",
    "print(hello_world.result)\n",
    "print(hello_world.list_options)\n",
    "print(hello_world.output_files)"
   ],
   "metadata": {
    "collapsed": false,
    "pycharm": {
     "name": "#%%\n"
    }
   }
  },
  {
   "cell_type": "markdown",
   "source": [
    "But they can not be e.g., append to and must be overwritten!"
   ],
   "metadata": {
    "collapsed": false,
    "pycharm": {
     "name": "#%% md\n"
    }
   }
  },
  {
   "cell_type": "code",
   "execution_count": 10,
   "outputs": [
    {
     "name": "stderr",
     "output_type": "stream",
     "text": [
      "Used mutable type list for outs! Always overwrite the outs and don't append to it! It won't work.\n",
      "Used mutable type list for outs! Always overwrite the outs and don't append to it! It won't work.\n",
      "Used mutable type list for outs! Always overwrite the outs and don't append to it! It won't work.\n",
      "--- Writing new DVC file! ---\n",
      "Overwriting existing configuration!\n"
     ]
    },
    {
     "name": "stdout",
     "output_type": "stream",
     "text": [
      "[WindowsPath('outs/first_file.txt'), WindowsPath('outs/second_file.txt')]\n",
      "[WindowsPath('outs/first_file.txt'), WindowsPath('outs/second_file.txt')]\n",
      "[WindowsPath('outs/first_file.txt'), WindowsPath('outs/second_file.txt'), WindowsPath('outs/third_file.txt')]\n"
     ]
    },
    {
     "name": "stderr",
     "output_type": "stream",
     "text": [
      "ERROR: you are not inside of a DVC repository (checked up to mount point 'C:\\')\r\n",
      "\n"
     ]
    }
   ],
   "source": [
    "@PyTrack()\n",
    "class HelloWorld:\n",
    "    def __init__(self):\n",
    "        self.result = DVC.result()\n",
    "        self.output_files = DVC.outs(['first_file.txt', 'second_file.txt'])\n",
    "\n",
    "    def __call__(self):\n",
    "        print(hello_world.output_files)\n",
    "        self.output_files.append('third_file.txt')\n",
    "        print(hello_world.output_files)\n",
    "        self.output_files= [x.name for x in self.output_files] + ['third_file.txt']\n",
    "        print(hello_world.output_files)\n",
    "\n",
    "    def run(self):\n",
    "        pass\n",
    "\n",
    "hello_world = HelloWorld()\n",
    "hello_world()"
   ],
   "metadata": {
    "collapsed": false,
    "pycharm": {
     "name": "#%%\n"
    }
   }
  },
  {
   "cell_type": "markdown",
   "source": [
    "## PyTrackProject\n",
    "\n",
    "PyTrack also provides a Python interface to DVC via the `PyTrackProject`."
   ],
   "metadata": {
    "collapsed": false,
    "pycharm": {
     "name": "#%% md\n"
    }
   }
  }
 ],
 "metadata": {
  "kernelspec": {
   "display_name": "Python 3",
   "language": "python",
   "name": "python3"
  },
  "language_info": {
   "codemirror_mode": {
    "name": "ipython",
    "version": 2
   },
   "file_extension": ".py",
   "mimetype": "text/x-python",
   "name": "python",
   "nbconvert_exporter": "python",
   "pygments_lexer": "ipython2",
   "version": "2.7.6"
  }
 },
 "nbformat": 4,
 "nbformat_minor": 0
}