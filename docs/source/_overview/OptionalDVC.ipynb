{
 "cells": [
  {
   "cell_type": "markdown",
   "id": "11e1b3ea-4c78-4a2e-a815-09d350e38a1b",
   "metadata": {},
   "source": [
    "# Optional DVC arguments\n",
    "\n",
    "There are more DVC Options https://dvc.org/doc/command-reference/run#options that can be important to some workflows.\n",
    "In the following we show how to use them with DVC."
   ]
  },
  {
   "cell_type": "markdown",
   "id": "226295e7-424a-45d3-9e16-c91e7f3fabd7",
   "metadata": {},
   "source": [
    "## External\n",
    "\n",
    "For `dvc run --external` the following can be used:"
   ]
  },
  {
   "cell_type": "code",
   "execution_count": 1,
   "id": "053af217-bf4f-485d-9892-e71d83824bbd",
   "metadata": {},
   "outputs": [],
   "source": [
    "from zntrack import Node, dvc, config, ZnTrackProject\n",
    "from pathlib import Path\n",
    "import tempfile\n",
    "\n",
    "config.nb_name = \"OptionalDVC.ipynb\""
   ]
  },
  {
   "cell_type": "code",
   "execution_count": 2,
   "id": "5c19a9a4-89fa-4e58-9531-489f41a49c32",
   "metadata": {
    "nbsphinx": "hidden",
    "tags": []
   },
   "outputs": [],
   "source": [
    "from zntrack.utils import cwd_temp_dir\n",
    "temp_dir = cwd_temp_dir()"
   ]
  },
  {
   "cell_type": "code",
   "execution_count": 3,
   "id": "e6dd042e-4530-49ab-91ee-bb3fb732cd5d",
   "metadata": {},
   "outputs": [
    {
     "name": "stdout",
     "output_type": "stream",
     "text": [
      "2021-11-30 16:37:03,736 (INFO): Setting up GIT/DVC repository.\n"
     ]
    }
   ],
   "source": [
    "project = ZnTrackProject()\n",
    "project.create_dvc_repository()"
   ]
  },
  {
   "cell_type": "code",
   "execution_count": 4,
   "id": "8d7cc118-afb0-4dfa-be71-793574febd34",
   "metadata": {},
   "outputs": [],
   "source": [
    "temp_file = tempfile.NamedTemporaryFile()"
   ]
  },
  {
   "cell_type": "code",
   "execution_count": 5,
   "id": "026f89e2-e814-4b9c-a896-dac94353c404",
   "metadata": {},
   "outputs": [
    {
     "name": "stdout",
     "output_type": "stream",
     "text": [
      "2021-11-30 16:37:04,898 (WARNING): Jupyter support is an experimental feature! Please save your notebook before running this command!\n",
      "Submit issues to https://github.com/zincware/ZnTrack.\n"
     ]
    },
    {
     "name": "stderr",
     "output_type": "stream",
     "text": [
      "[NbConvertApp] Converting notebook OptionalDVC.ipynb to script\n",
      "[NbConvertApp] Writing 1544 bytes to OptionalDVC.py\n"
     ]
    }
   ],
   "source": [
    "@Node(external=True)\n",
    "class WriteExternal:\n",
    "    file: Path = dvc.outs()\n",
    "    data = dvc.params()\n",
    "    \n",
    "    def __call__(self, data: str, file: str):\n",
    "        self.data = data\n",
    "        self.file = Path(file)\n",
    "        \n",
    "    def run(self):\n",
    "        self.file.write_text(self.data)\n",
    "    \n",
    "    def read_text(self):\n",
    "        print(self.file.read_text())"
   ]
  },
  {
   "cell_type": "code",
   "execution_count": 6,
   "id": "ded6611c-2bea-43ae-aa51-0c714d0c29f0",
   "metadata": {},
   "outputs": [
    {
     "name": "stdout",
     "output_type": "stream",
     "text": [
      "2021-11-30 16:37:08,107 (WARNING): --- Writing new DVC file! ---\n",
      "2021-11-30 16:37:10,677 (INFO): Creating 'dvc.yaml'\n",
      "Adding stage 'WriteExternal' in 'dvc.yaml'\n",
      "\n",
      "To track the changes with git, run:\n",
      "\n",
      "\tgit add dvc.yaml\n",
      "\n"
     ]
    }
   ],
   "source": [
    "WriteExternal()(data=\"HelloWorld\", file=temp_file.name)"
   ]
  },
  {
   "cell_type": "code",
   "execution_count": 7,
   "id": "ebda1030-b38b-48da-99b6-32e382515c4e",
   "metadata": {},
   "outputs": [
    {
     "name": "stdout",
     "output_type": "stream",
     "text": [
      "Running stage 'WriteExternal':\n",
      "> python3 -c \"from src.WriteExternal import WriteExternal; WriteExternal(load=True, name='WriteExternal').run()\" \n",
      "Generating lock file 'dvc.lock'\n",
      "Updating lock file 'dvc.lock'\n",
      "\n",
      "To track the changes with git, run:\n",
      "\n",
      "\tgit add dvc.lock\n",
      "Use `dvc push` to send your updates to remote storage.\n"
     ]
    }
   ],
   "source": [
    "project.repro()"
   ]
  },
  {
   "cell_type": "code",
   "execution_count": 8,
   "id": "666c7ccb-08e0-4e6a-9a06-1e7a0ba242ef",
   "metadata": {},
   "outputs": [
    {
     "name": "stdout",
     "output_type": "stream",
     "text": [
      "HelloWorld\n"
     ]
    }
   ],
   "source": [
    "WriteExternal(load=True).read_text()"
   ]
  },
  {
   "cell_type": "code",
   "execution_count": 9,
   "id": "11ce904a-70b0-456e-8330-932eeeba2f08",
   "metadata": {},
   "outputs": [],
   "source": [
    "temp_file.close()"
   ]
  },
  {
   "cell_type": "markdown",
   "id": "40d5645d-7158-4956-abc0-6f5cb9698d37",
   "metadata": {},
   "source": [
    "## no-commit\n",
    "For `dvc run --no-commit` the interface is similar and looks like:"
   ]
  },
  {
   "cell_type": "code",
   "execution_count": 10,
   "id": "3ec9c511-1ed3-4844-a420-dbbf2cc82423",
   "metadata": {},
   "outputs": [
    {
     "name": "stdout",
     "output_type": "stream",
     "text": [
      "2021-11-30 16:37:12,587 (WARNING): Jupyter support is an experimental feature! Please save your notebook before running this command!\n",
      "Submit issues to https://github.com/zincware/ZnTrack.\n"
     ]
    },
    {
     "name": "stderr",
     "output_type": "stream",
     "text": [
      "[NbConvertApp] Converting notebook OptionalDVC.ipynb to script\n",
      "[NbConvertApp] Writing 1544 bytes to OptionalDVC.py\n"
     ]
    }
   ],
   "source": [
    "@Node(no_commit=True)\n",
    "class HelloWorld:\n",
    "    def run(self):\n",
    "        pass"
   ]
  },
  {
   "cell_type": "markdown",
   "id": "8fc9d1f2-2235-4e8c-9432-94f940b440fa",
   "metadata": {},
   "source": [
    "For `dvc run --no-exec` you can pass `no_exec=True`. This is the default value, because Experiments are usually queued and then run collectively if the full graph was build."
   ]
  },
  {
   "cell_type": "code",
   "execution_count": 11,
   "id": "afddeca2-d1d4-4eaa-8628-ff6cbfa1bbe1",
   "metadata": {},
   "outputs": [
    {
     "name": "stdout",
     "output_type": "stream",
     "text": [
      "2021-11-30 16:37:15,637 (WARNING): Jupyter support is an experimental feature! Please save your notebook before running this command!\n",
      "Submit issues to https://github.com/zincware/ZnTrack.\n"
     ]
    },
    {
     "name": "stderr",
     "output_type": "stream",
     "text": [
      "[NbConvertApp] Converting notebook OptionalDVC.ipynb to script\n",
      "[NbConvertApp] Writing 1544 bytes to OptionalDVC.py\n"
     ]
    }
   ],
   "source": [
    "@Node(no_exec=True)\n",
    "class HelloWorld:\n",
    "    def run(self):\n",
    "        pass"
   ]
  },
  {
   "cell_type": "code",
   "execution_count": 12,
   "id": "52554c16-d793-461c-824b-86d6adbf0968",
   "metadata": {
    "nbsphinx": "hidden",
    "tags": []
   },
   "outputs": [],
   "source": [
    "temp_dir.cleanup()"
   ]
  }
 ],
 "metadata": {
  "kernelspec": {
   "display_name": "Python 3 (ipykernel)",
   "language": "python",
   "name": "python3"
  },
  "language_info": {
   "codemirror_mode": {
    "name": "ipython",
    "version": 3
   },
   "file_extension": ".py",
   "mimetype": "text/x-python",
   "name": "python",
   "nbconvert_exporter": "python",
   "pygments_lexer": "ipython3",
   "version": "3.9.7"
  }
 },
 "nbformat": 4,
 "nbformat_minor": 5
}
