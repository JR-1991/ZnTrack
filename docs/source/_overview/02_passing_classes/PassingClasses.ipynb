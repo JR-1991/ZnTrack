{
 "cells": [
  {
   "cell_type": "markdown",
   "metadata": {
    "pycharm": {
     "name": "#%% md\n"
    }
   },
   "source": [
    "# Working with child classes\n",
    "\n",
    "There can be scenarios where it makes sense to subclass different methods for a single stage.\n",
    "E.g. testing out dense neural network vs. a CNN which are both defined in a custom class.\n",
    "\n",
    "Such a scenario can be handled by using a class for each method, which in the following are referred to as child classes although they do not necessarily have to inherit from a parent class."
   ]
  },
  {
   "cell_type": "code",
   "execution_count": 5,
   "metadata": {
    "pycharm": {
     "name": "#%%\n"
    }
   },
   "outputs": [
    {
     "name": "stdout",
     "output_type": "stream",
     "text": [
      "2021-10-19 10:41:21,669 (INFO): Setting up GIT/DVC repository.\n"
     ]
    }
   ],
   "source": [
    "from pytrack import PyTrackProject, config\n",
    "\n",
    "config.nb_name = \"PassingClasses.ipynb\"\n",
    "project = PyTrackProject()\n",
    "project.create_dvc_repository()"
   ]
  },
  {
   "cell_type": "markdown",
   "metadata": {},
   "source": [
    "In the following we define two operations that have different arguments and perform different calculations.\n",
    "We apply the `check_signature` decorator, which asserts the signature names with the class attributes. I.e. if the signature has an argument `factor` the associated class attribute has to be called `self.factor`.\n",
    "\n",
    "We then collect all available operations in a dictionary in the PyTrack stage and use `inspect` and `getattr` to store the parameters.\n",
    "In the `run` method we then instatiate a new version of the operation doing the actual computation.\n",
    "Again, this is required because it will be excecuted in a new Python kernel."
   ]
  },
  {
   "cell_type": "code",
   "execution_count": 6,
   "metadata": {
    "pycharm": {
     "name": "#%%\n"
    }
   },
   "outputs": [
    {
     "name": "stdout",
     "output_type": "stream",
     "text": [
      "2021-10-19 10:41:24,218 (WARNING): Jupyter support is an experimental feature! Please save your notebook before running this command!\n",
      "Submit issues to https://github.com/zincware/py-track.\n"
     ]
    },
    {
     "name": "stderr",
     "output_type": "stream",
     "text": [
      "[NbConvertApp] Converting notebook PassingClasses.ipynb to script\n",
      "[NbConvertApp] Writing 5086 bytes to PassingClasses.py\n"
     ]
    }
   ],
   "source": [
    "from pytrack import PyTrack, DVC\n",
    "from pytrack.utils.decorators import check_signature\n",
    "import inspect\n",
    "\n",
    "class Operation1:\n",
    "    \"\"\"\n",
    "    An implementation or algorithm you want to \n",
    "    be tracked by py-track.\n",
    "    \"\"\"\n",
    "    @check_signature\n",
    "    def __init__(self, factor):\n",
    "        self.factor = factor\n",
    "\n",
    "    def convert_input(self, inp):\n",
    "        return inp * self.factor\n",
    "\n",
    "class Operation2:\n",
    "    \"\"\"\n",
    "    Another implementation or algorithm you want to \n",
    "    be tracked by py-track. should accomplish the same\n",
    "    goal as Operation1 but perhaps in a different way.\n",
    "    \"\"\"\n",
    "    @check_signature\n",
    "    def __init__(self, factor, shift):\n",
    "        self.factor = factor\n",
    "        self.shift = shift\n",
    "\n",
    "    def convert_input(self, inp):\n",
    "        return inp * self.factor + self.shift\n",
    "\n",
    "\n",
    "@PyTrack()\n",
    "class ChildHandler:\n",
    "    \"\"\"\n",
    "    PyTrack enabled class which handles calling the\n",
    "    implementations.\n",
    "    \"\"\"\n",
    "    \n",
    "    methods = {\n",
    "        Operation1.__name__: Operation1,\n",
    "        Operation2.__name__: Operation2\n",
    "    }\n",
    "\n",
    "    operation = DVC.params()\n",
    "    operation_parameter = DVC.params()\n",
    "    inputs = DVC.params()\n",
    "    output = DVC.result()\n",
    "\n",
    "    def __call__(self, operation: object, inp):\n",
    "        \"\"\"\n",
    "        This is what will be called when you run the\n",
    "        script. For example:\n",
    "            data = ChildHandler(Operation1(), ...)\n",
    "        Calling of this class will add it to the \n",
    "        computation graph which is later executed.\n",
    "        \"\"\"\n",
    "        self.operation = operation.__class__.__name__\n",
    "        operation_parameter = {}\n",
    "        for key in inspect.signature(operation.__class__.__init__).parameters:\n",
    "            if key == \"self\":\n",
    "                continue\n",
    "            operation_parameter[key] = getattr(operation, key)\n",
    "        self.operation_parameter = operation_parameter\n",
    "        # Note we have to use \"=\" here and can not update it iteratively!\n",
    "\n",
    "        self.inputs = inp\n",
    "    def run(self):\n",
    "        \"\"\"\n",
    "        Called on the backed to execute the methods in\n",
    "        one of the child classes. In this case, the \n",
    "        method we want to run in the child class is \n",
    "        called convert_input.\n",
    "        \"\"\"\n",
    "        Operation = self.methods[self.operation]\n",
    "        operation = Operation(**self.operation_parameter)\n",
    "\n",
    "        self.output = operation.convert_input(self.inputs)"
   ]
  },
  {
   "cell_type": "markdown",
   "metadata": {
    "pycharm": {
     "name": "#%% md\n"
    }
   },
   "source": [
    "We are using `inspect.signature` and assume that the class attributes have the same name as the `__init__`\n",
    " parameters.\n",
    " They can be changed in any way though.\n",
    "\n",
    "Let us now use both passed child methods and see how it works out."
   ]
  },
  {
   "cell_type": "code",
   "execution_count": 7,
   "metadata": {
    "pycharm": {
     "name": "#%%\n"
    }
   },
   "outputs": [
    {
     "name": "stdout",
     "output_type": "stream",
     "text": [
      "2021-10-19 10:41:27,410 (WARNING): --- Writing new DVC file! ---\n",
      "2021-10-19 10:41:27,411 (WARNING): Overwriting existing configuration!\n",
      "2021-10-19 10:41:30,885 (INFO): Creating 'dvc.yaml'\n",
      "Adding stage 'ChildHandler' in 'dvc.yaml'\n",
      "\n",
      "To track the changes with git, run:\n",
      "\n",
      "\tgit add outs/.gitignore dvc.yaml\n",
      "\n",
      "2021-10-19 10:41:30,890 (INFO): Running git add\n",
      "2021-10-19 10:41:30,993 (INFO): Queue DVC stage\n",
      "Queued experiment '1c37fdd' for future execution.\n",
      "2021-10-19 10:41:33,707 (WARNING): --- Writing new DVC file! ---\n",
      "2021-10-19 10:41:33,708 (WARNING): Overwriting existing configuration!\n",
      "2021-10-19 10:41:36,742 (INFO): Modifying stage 'ChildHandler' in 'dvc.yaml'\n",
      "\n",
      "To track the changes with git, run:\n",
      "\n",
      "\tgit add dvc.yaml\n",
      "\n",
      "2021-10-19 10:41:36,748 (INFO): Running git add\n",
      "2021-10-19 10:41:36,810 (INFO): Queue DVC stage\n",
      "Queued experiment '4ba3132' for future execution.\n",
      "2021-10-19 10:41:39,204 (INFO): RUN DVC stage\n",
      "Running stage 'ChildHandler':\n",
      "> python3 -c \"from src.ChildHandler import ChildHandler; ChildHandler(load=True).run()\"\n",
      "2021-10-19 10:41:43,685 (WARNING): No results found!\n",
      "Generating lock file 'dvc.lock'\n",
      "Updating lock file 'dvc.lock'\n"
     ]
    },
    {
     "name": "stderr",
     "output_type": "stream",
     "text": [
      "WARNING: The following untracked files were present in the experiment directory after reproduction but will not be included in experiment commits:\n",
      "\touts/.gitignore, src/__pycache__/ChildHandler.cpython-39.pyc\n"
     ]
    },
    {
     "name": "stdout",
     "output_type": "stream",
     "text": [
      "Running stage 'ChildHandler':\n",
      "> python3 -c \"from src.ChildHandler import ChildHandler; ChildHandler(load=True).run()\"\n",
      "2021-10-19 10:41:45,907 (WARNING): No results found!\n",
      "Generating lock file 'dvc.lock'\n",
      "Updating lock file 'dvc.lock'\n"
     ]
    },
    {
     "name": "stderr",
     "output_type": "stream",
     "text": [
      "WARNING: The following untracked files were present in the experiment directory after reproduction but will not be included in experiment commits:\n",
      "\touts/.gitignore, src/__pycache__/ChildHandler.cpython-39.pyc\n"
     ]
    },
    {
     "name": "stdout",
     "output_type": "stream",
     "text": [
      "\n",
      "Reproduced experiment(s): Op2, Op1\n",
      "To apply the results of an experiment to your workspace run:\n",
      "\n",
      "\tdvc exp apply <exp>\n",
      "\n",
      "To promote an experiment to a Git branch run:\n",
      "\n",
      "\tdvc exp branch <exp> <branch>\n",
      "\n",
      "2021-10-19 10:41:47,267 (INFO): Running git add\n"
     ]
    }
   ],
   "source": [
    "child_handler = ChildHandler()\n",
    "operation = Operation1(factor=3)\n",
    "child_handler(operation=operation, inp=15)\n",
    "\n",
    "project.queue(name=\"Op1\")\n",
    "\n",
    "child_handler = ChildHandler()\n",
    "operation = Operation2(factor=2, shift=500)\n",
    "child_handler(operation=operation, inp=15)\n",
    "\n",
    "project.queue(name=\"Op2\")\n",
    "project.run_all()"
   ]
  },
  {
   "cell_type": "markdown",
   "metadata": {
    "pycharm": {
     "name": "#%% md\n"
    }
   },
   "source": [
    "We can now load them and see the results"
   ]
  },
  {
   "cell_type": "code",
   "execution_count": 10,
   "metadata": {
    "pycharm": {
     "name": "#%%\n"
    }
   },
   "outputs": [
    {
     "name": "stdout",
     "output_type": "stream",
     "text": [
      "Changes for experiment 'Op1' have been applied to your current workspace.\n",
      "Changes for experiment 'Op2' have been applied to your current workspace.\n",
      "Op1: {'factor': 3} \t 45\n",
      "Op2: {'factor': 2, 'shift': 500} \t 530\n"
     ]
    }
   ],
   "source": [
    "project.load(\"Op1\")\n",
    "op1_rev = ChildHandler(load=True)\n",
    "project.load(\"Op2\")\n",
    "op2_rev = ChildHandler(load=True)\n",
    "print(f\"Op1: {op1_rev.operation_parameter} \\t {op1_rev.output}\")\n",
    "print(f\"Op2: {op2_rev.operation_parameter} \\t {op2_rev.output}\")"
   ]
  },
  {
   "cell_type": "markdown",
   "metadata": {
    "pycharm": {
     "name": "#%% md\n"
    }
   },
   "source": [
    "## Parent classes\n",
    "\n",
    "This nested methods can get arbitrarily complicated, having different dependencies and outputs.\n",
    "In that case it might be useful to have a common parent class and loop over e.g., a list of dependecies as such:"
   ]
  },
  {
   "cell_type": "code",
   "execution_count": 18,
   "metadata": {
    "pycharm": {
     "name": "#%%\n"
    }
   },
   "outputs": [
    {
     "name": "stdout",
     "output_type": "stream",
     "text": [
      "2021-10-19 13:18:31,902 (WARNING): Jupyter support is an experimental feature! Please save your notebook before running this command!\n",
      "Submit issues to https://github.com/zincware/py-track.\n"
     ]
    },
    {
     "name": "stderr",
     "output_type": "stream",
     "text": [
      "[NbConvertApp] Converting notebook PassingClasses.ipynb to script\n",
      "[NbConvertApp] Writing 5743 bytes to PassingClasses.py\n"
     ]
    }
   ],
   "source": [
    "class OperationBase:\n",
    "    def __init__(self):\n",
    "        self.dependencies = []\n",
    "        self.outs = []\n",
    "\n",
    "class Operation3(OperationBase):\n",
    "    def __init__(self):\n",
    "        super().__init__()\n",
    "        self.dependencies = ['File1', 'File2', 'File3']\n",
    "        self.outs = ['Out1.txt', 'Out2.txt']\n",
    "\n",
    "@PyTrack()\n",
    "class ChildHandlerWithBase:\n",
    "    methods = {\n",
    "            Operation3.__name__: Operation3\n",
    "        }\n",
    "    method = DVC.params()\n",
    "    deps = DVC.deps()\n",
    "    outs = DVC.outs()       \n",
    "\n",
    "    def __call__(self, operation: OperationBase):\n",
    "        self.deps = [x for x in operation.dependencies]\n",
    "        self.outs = [x for x in operation.outs]\n",
    "\n",
    "    def run(self):\n",
    "        method = self.methods[self.method]"
   ]
  },
  {
   "cell_type": "markdown",
   "metadata": {
    "pycharm": {
     "name": "#%% md\n"
    }
   },
   "source": [
    "Now we can pass our custom operation with a list of dependencies and outputs"
   ]
  },
  {
   "cell_type": "code",
   "execution_count": 19,
   "metadata": {
    "pycharm": {
     "name": "#%%\n"
    }
   },
   "outputs": [
    {
     "name": "stdout",
     "output_type": "stream",
     "text": [
      "2021-10-19 13:18:36,145 (WARNING): --- Writing new DVC file! ---\n",
      "2021-10-19 13:18:36,146 (WARNING): Overwriting existing configuration!\n",
      "2021-10-19 13:18:39,994 (INFO): Modifying stage 'ChildHandlerWithBase' in 'dvc.yaml'\n",
      "\n",
      "To track the changes with git, run:\n",
      "\n",
      "\tgit add dvc.yaml\n",
      "\n"
     ]
    }
   ],
   "source": [
    "child_handler = ChildHandlerWithBase()\n",
    "operation = Operation3()\n",
    "child_handler(operation)"
   ]
  },
  {
   "cell_type": "markdown",
   "metadata": {
    "pycharm": {
     "name": "#%% md\n"
    }
   },
   "source": [
    "If we now look at the PyTrack dependencies and outputs they are all set correctly."
   ]
  },
  {
   "cell_type": "code",
   "execution_count": 20,
   "metadata": {
    "pycharm": {
     "name": "#%%\n"
    }
   },
   "outputs": [
    {
     "name": "stdout",
     "output_type": "stream",
     "text": [
      "2021-10-19 13:18:40,012 (WARNING): No results found!\n",
      "['File1', 'File2', 'File3']\n",
      "2021-10-19 13:18:40,020 (WARNING): No results found!\n",
      "['Out1.txt', 'Out2.txt']\n"
     ]
    }
   ],
   "source": [
    "print(ChildHandlerWithBase(load=True).deps)\n",
    "print(ChildHandlerWithBase(load=True).outs)"
   ]
  }
 ],
 "metadata": {
  "kernelspec": {
   "display_name": "Python 3 (ipykernel)",
   "language": "python",
   "name": "python3"
  },
  "language_info": {
   "codemirror_mode": {
    "name": "ipython",
    "version": 3
   },
   "file_extension": ".py",
   "mimetype": "text/x-python",
   "name": "python",
   "nbconvert_exporter": "python",
   "pygments_lexer": "ipython3",
   "version": "3.9.7"
  }
 },
 "nbformat": 4,
 "nbformat_minor": 4
}
