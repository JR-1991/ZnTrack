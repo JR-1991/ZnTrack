{
 "cells": [
  {
   "cell_type": "markdown",
   "metadata": {
    "collapsed": true,
    "pycharm": {
     "name": "#%% md\n"
    }
   },
   "source": [
    "# Example 02\n",
    "\n",
    "In this example we are looking at dependencies between stages"
   ]
  },
  {
   "cell_type": "code",
   "execution_count": 1,
   "outputs": [],
   "source": [
    "from Example01 import TextToFile\n",
    "from Example02 import ProcessData\n",
    "from tempfile import TemporaryDirectory\n",
    "import os\n",
    "import shutil"
   ],
   "metadata": {
    "collapsed": false,
    "pycharm": {
     "name": "#%%\n"
    }
   }
  },
  {
   "cell_type": "code",
   "execution_count": 2,
   "outputs": [
    {
     "name": "stdout",
     "output_type": "stream",
     "text": [
      "Initialized empty Git repository in C:/Users/fabia/AppData/Local/Temp/tmpwhzdduox/.git/\n",
      "Initialized DVC repository.\n",
      "\n",
      "You can now commit the changes to git.\n",
      "\n",
      "+---------------------------------------------------------------------+\n",
      "|                                                                     |\n",
      "|        DVC has enabled anonymous aggregate usage analytics.         |\n",
      "|     Read the analytics documentation (and how to opt-out) here:     |\n",
      "|             <https://dvc.org/doc/user-guide/analytics>              |\n",
      "|                                                                     |\n",
      "+---------------------------------------------------------------------+\n",
      "\n",
      "What's next?\n",
      "------------\n",
      "- Check out the documentation: <https://dvc.org/doc>\n",
      "- Get help and share ideas: <https://dvc.org/chat>\n",
      "- Star us on GitHub: <https://github.com/iterative/dvc>\n"
     ]
    }
   ],
   "source": [
    "temp_dir = TemporaryDirectory()\n",
    "shutil.copy('Example01.py', temp_dir.name)\n",
    "shutil.copy('Example02.py', temp_dir.name)\n",
    "os.chdir(temp_dir.name)\n",
    "\n",
    "!git init\n",
    "!dvc init"
   ],
   "metadata": {
    "collapsed": false,
    "pycharm": {
     "name": "#%%\n"
    }
   }
  },
  {
   "cell_type": "markdown",
   "source": [
    "Content of `Example02.py`\n",
    "```python\n",
    "from pytrack import PyTrack\n",
    "from Example01 import TextToFile\n",
    "\n",
    "\n",
    "class ProcessData(PyTrack):\n",
    "\n",
    "    def __init__(self, id_=None, filter_=None):\n",
    "        super().__init__(id_, filter_)\n",
    "        self.post_init(id_, filter_)\n",
    "\n",
    "    def __call__(self):\n",
    "        self.dvc.deps = [TextToFile(id_=0).files.json_file]\n",
    "\n",
    "        self.post_call()\n",
    "\n",
    "    def run(self):\n",
    "        self.results = sum(TextToFile(id_=0).results['text'])\n",
    "\n",
    "```"
   ],
   "metadata": {
    "collapsed": false
   }
  },
  {
   "cell_type": "code",
   "execution_count": 3,
   "outputs": [],
   "source": [
    "text_to_file = TextToFile()\n",
    "process_data = ProcessData()"
   ],
   "metadata": {
    "collapsed": false,
    "pycharm": {
     "name": "#%%\n"
    }
   }
  },
  {
   "cell_type": "code",
   "execution_count": 4,
   "outputs": [],
   "source": [
    "text_to_file(text=[1, 2, 3, 4])\n",
    "process_data()"
   ],
   "metadata": {
    "collapsed": false,
    "pycharm": {
     "name": "#%%\n"
    }
   }
  },
  {
   "cell_type": "markdown",
   "source": [
    "Contents of `dvc.yaml`\n",
    "\n",
    "```yaml\n",
    "stages:\n",
    "  TextToFile_0:\n",
    "    cmd: python -c \"from Example01 import TextToFile; TextToFile(id_=0).run()\"\n",
    "    params:\n",
    "    - config/params.json:\n",
    "      - TextToFile.0\n",
    "    outs:\n",
    "    - outs\\0_TextToFile.json\n",
    "  ProcessData_0:\n",
    "    cmd: python -c \"from Example02 import ProcessData; ProcessData(id_=0).run()\"\n",
    "    deps:\n",
    "    - outs\\0_TextToFile.json\n",
    "    params:\n",
    "    - config/params.json:\n",
    "      - ProcessData.0\n",
    "    outs:\n",
    "    - outs\\0_ProcessData.json\n",
    "```"
   ],
   "metadata": {
    "collapsed": false,
    "pycharm": {
     "name": "#%% md\n"
    }
   }
  },
  {
   "cell_type": "code",
   "execution_count": 5,
   "outputs": [
    {
     "name": "stdout",
     "output_type": "stream",
     "text": [
      "Running stage 'TextToFile_0':\n",
      "> python -c \"from Example01 import TextToFile; TextToFile(id_=0).run()\"\n",
      "Generating lock file 'dvc.lock'\n",
      "Updating lock file 'dvc.lock'\n",
      "\n",
      "Running stage 'ProcessData_0':\n",
      "> python -c \"from Example02 import ProcessData; ProcessData(id_=0).run()\"\n",
      "Updating lock file 'dvc.lock'\n",
      "\n",
      "To track the changes with git, run:\n",
      "\n",
      "\tgit add dvc.lock\n",
      "Use `dvc push` to send your updates to remote storage.\n"
     ]
    },
    {
     "name": "stderr",
     "output_type": "stream",
     "text": [
      "Switched to a new branch 'run_1'\n"
     ]
    },
    {
     "name": "stdout",
     "output_type": "stream",
     "text": [
      "[run_1 (root-commit) 2e121a9] run_1\n",
      " 17 files changed, 610 insertions(+)\n",
      " create mode 100644 .dvc/.gitignore\n",
      " create mode 100644 .dvc/config\n",
      " create mode 100644 .dvc/plots/confusion.json\n",
      " create mode 100644 .dvc/plots/confusion_normalized.json\n",
      " create mode 100644 .dvc/plots/default.json\n",
      " create mode 100644 .dvc/plots/linear.json\n",
      " create mode 100644 .dvc/plots/scatter.json\n",
      " create mode 100644 .dvc/plots/smooth.json\n",
      " create mode 100644 .dvcignore\n",
      " create mode 100644 Example01.py\n",
      " create mode 100644 Example02.py\n",
      " create mode 100644 __pycache__/Example01.cpython-39.pyc\n",
      " create mode 100644 __pycache__/Example02.cpython-39.pyc\n",
      " create mode 100644 config/params.json\n",
      " create mode 100644 dvc.lock\n",
      " create mode 100644 dvc.yaml\n",
      " create mode 100644 outs/.gitignore\n"
     ]
    }
   ],
   "source": [
    "!dvc repro\n",
    "!git checkout -b \"run_1\"\n",
    "!git add .\n",
    "!git commit -m \"run_1\""
   ],
   "metadata": {
    "collapsed": false,
    "pycharm": {
     "name": "#%%\n"
    }
   }
  },
  {
   "cell_type": "code",
   "execution_count": 6,
   "outputs": [
    {
     "data": {
      "text/plain": "10"
     },
     "execution_count": 6,
     "metadata": {},
     "output_type": "execute_result"
    }
   ],
   "source": [
    "# process_data.dvc\n",
    "process_data.results"
   ],
   "metadata": {
    "collapsed": false,
    "pycharm": {
     "name": "#%%\n"
    }
   }
  },
  {
   "cell_type": "code",
   "execution_count": 7,
   "outputs": [
    {
     "name": "stdout",
     "output_type": "stream",
     "text": [
      "+--------------+   \n",
      "\n",
      "| TextToFile_0 |   \n",
      "\n",
      "+--------------+   \n",
      "\n",
      "        *          \n",
      "\n",
      "        *          \n",
      "\n",
      "        *          \n",
      "\n",
      "+---------------+  \n",
      "\n",
      "| ProcessData_0 |  \n",
      "\n",
      "+---------------+  \n"
     ]
    }
   ],
   "source": [
    "!dvc dag"
   ],
   "metadata": {
    "collapsed": false,
    "pycharm": {
     "name": "#%%\n"
    }
   }
  },
  {
   "cell_type": "code",
   "execution_count": 8,
   "outputs": [
    {
     "name": "stderr",
     "output_type": "stream",
     "text": [
      "ERROR: Stage 'TextToFile_0' already exists in 'dvc.yaml'. Use '--force' to overwrite.\r\n",
      "\n",
      "ERROR: Stage 'ProcessData_0' already exists in 'dvc.yaml'. Use '--force' to overwrite.\r\n",
      "\n"
     ]
    },
    {
     "name": "stdout",
     "output_type": "stream",
     "text": [
      "Running stage 'TextToFile_0':\n",
      "> python -c \"from Example01 import TextToFile; TextToFile(id_=0).run()\"\n",
      "Updating lock file 'dvc.lock'\n",
      "\n",
      "Running stage 'ProcessData_0':\n",
      "> python -c \"from Example02 import ProcessData; ProcessData(id_=0).run()\"\n",
      "Updating lock file 'dvc.lock'\n",
      "\n",
      "To track the changes with git, run:\n",
      "\n",
      "\tgit add dvc.lock\n",
      "Use `dvc push` to send your updates to remote storage.\n"
     ]
    },
    {
     "name": "stderr",
     "output_type": "stream",
     "text": [
      "Switched to a new branch 'run_2'\n"
     ]
    },
    {
     "name": "stdout",
     "output_type": "stream",
     "text": [
      "[run_2 8831e84] run_2\n",
      " 2 files changed, 15 insertions(+), 13 deletions(-)\n"
     ]
    }
   ],
   "source": [
    "text_to_file(text=[5, 6, 7, 8, 9])\n",
    "process_data()\n",
    "\n",
    "!dvc repro\n",
    "!git checkout -b \"run_2\"\n",
    "!git add .\n",
    "!git commit -m \"run_2\""
   ],
   "metadata": {
    "collapsed": false,
    "pycharm": {
     "name": "#%%\n"
    }
   }
  },
  {
   "cell_type": "code",
   "execution_count": 9,
   "outputs": [
    {
     "data": {
      "text/plain": "35"
     },
     "execution_count": 9,
     "metadata": {},
     "output_type": "execute_result"
    }
   ],
   "source": [
    "process_data.results"
   ],
   "metadata": {
    "collapsed": false,
    "pycharm": {
     "name": "#%%\n"
    }
   }
  },
  {
   "cell_type": "code",
   "execution_count": 10,
   "outputs": [
    {
     "name": "stdout",
     "output_type": "stream",
     "text": [
      "  run_1\n",
      "* run_2\n"
     ]
    },
    {
     "name": "stderr",
     "output_type": "stream",
     "text": [
      "Switched to branch 'run_1'\n"
     ]
    },
    {
     "name": "stdout",
     "output_type": "stream",
     "text": [
      "M       outs\\0_ProcessData.json\n",
      "M       outs\\0_TextToFile.json\n"
     ]
    },
    {
     "data": {
      "text/plain": "10"
     },
     "execution_count": 10,
     "metadata": {},
     "output_type": "execute_result"
    }
   ],
   "source": [
    "!git branch\n",
    "!git checkout run_1\n",
    "!dvc checkout\n",
    "process_data.results\n"
   ],
   "metadata": {
    "collapsed": false,
    "pycharm": {
     "name": "#%%\n"
    }
   }
  },
  {
   "cell_type": "code",
   "execution_count": 11,
   "outputs": [
    {
     "name": "stdout",
     "output_type": "stream",
     "text": [
      "* run_1\n",
      "  run_2\n"
     ]
    },
    {
     "name": "stderr",
     "output_type": "stream",
     "text": [
      "Switched to branch 'run_2'\n"
     ]
    },
    {
     "name": "stdout",
     "output_type": "stream",
     "text": [
      "M       outs\\0_ProcessData.json\n",
      "M       outs\\0_TextToFile.json\n"
     ]
    },
    {
     "data": {
      "text/plain": "35"
     },
     "execution_count": 11,
     "metadata": {},
     "output_type": "execute_result"
    }
   ],
   "source": [
    "!git branch\n",
    "!git checkout run_2\n",
    "!dvc checkout\n",
    "process_data.results"
   ],
   "metadata": {
    "collapsed": false,
    "pycharm": {
     "name": "#%%\n"
    }
   }
  },
  {
   "cell_type": "code",
   "execution_count": 12,
   "outputs": [],
   "source": [
    "os.chdir('..')\n",
    "temp_dir.cleanup()\n"
   ],
   "metadata": {
    "collapsed": false,
    "pycharm": {
     "name": "#%%\n"
    }
   }
  }
 ],
 "metadata": {
  "kernelspec": {
   "display_name": "Python 3",
   "language": "python",
   "name": "python3"
  },
  "language_info": {
   "codemirror_mode": {
    "name": "ipython",
    "version": 2
   },
   "file_extension": ".py",
   "mimetype": "text/x-python",
   "name": "python",
   "nbconvert_exporter": "python",
   "pygments_lexer": "ipython2",
   "version": "2.7.6"
  }
 },
 "nbformat": 4,
 "nbformat_minor": 0
}