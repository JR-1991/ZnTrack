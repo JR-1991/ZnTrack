{
 "cells": [
  {
   "cell_type": "code",
   "execution_count": 1,
   "metadata": {
    "collapsed": true
   },
   "outputs": [],
   "source": [
    "from Example01 import TextToFile\n",
    "from tempfile import TemporaryDirectory\n",
    "import os\n",
    "import shutil"
   ]
  },
  {
   "cell_type": "markdown",
   "source": [
    "PyTrack creates files and folders for us.\n",
    "This is an example so we are using a temporary directory and clean it up at th end."
   ],
   "metadata": {
    "collapsed": false,
    "pycharm": {
     "name": "#%% md\n"
    }
   }
  },
  {
   "cell_type": "code",
   "execution_count": 2,
   "outputs": [
    {
     "name": "stdout",
     "output_type": "stream",
     "text": [
      "Initialized empty Git repository in C:/Users/fabia/AppData/Local/Temp/tmpuva0l5v0/.git/\n",
      "Initialized DVC repository.\n",
      "\n",
      "You can now commit the changes to git.\n",
      "\n",
      "+---------------------------------------------------------------------+\n",
      "|                                                                     |\n",
      "|        DVC has enabled anonymous aggregate usage analytics.         |\n",
      "|     Read the analytics documentation (and how to opt-out) here:     |\n",
      "|             <https://dvc.org/doc/user-guide/analytics>              |\n",
      "|                                                                     |\n",
      "+---------------------------------------------------------------------+\n",
      "\n",
      "What's next?\n",
      "------------\n",
      "- Check out the documentation: <https://dvc.org/doc>\n",
      "- Get help and share ideas: <https://dvc.org/chat>\n",
      "- Star us on GitHub: <https://github.com/iterative/dvc>\n"
     ]
    }
   ],
   "source": [
    "temp_dir = TemporaryDirectory()\n",
    "shutil.copy('Example01.py', temp_dir.name)\n",
    "os.chdir(temp_dir.name)\n",
    "\n",
    "!git init\n",
    "!dvc init"
   ],
   "metadata": {
    "collapsed": false,
    "pycharm": {
     "name": "#%%\n"
    }
   }
  },
  {
   "cell_type": "markdown",
   "source": [
    "Content of `Example01.py`\n",
    "```python\n",
    "from pytrack import PyTrack\n",
    "\n",
    "\n",
    "class TextToFile(PyTrack):\n",
    "\n",
    "    def __init__(self, id_=None, filter_=None):\n",
    "        super().__init__(id_, filter_)\n",
    "        self.post_init(id_, filter_)\n",
    "\n",
    "    def __call__(self, text: str):\n",
    "        self.parameters = {'text': text}\n",
    "        self.post_call()\n",
    "\n",
    "    def run(self):\n",
    "        self.results = self.parameters\n",
    "\n",
    "```\n",
    "This script is a minimal Example that stores a single value `text` as a result\n"
   ],
   "metadata": {
    "collapsed": false,
    "pycharm": {
     "name": "#%% md\n"
    }
   }
  },
  {
   "cell_type": "code",
   "execution_count": 3,
   "outputs": [],
   "source": [
    "text_to_file = TextToFile()"
   ],
   "metadata": {
    "collapsed": false,
    "pycharm": {
     "name": "#%%\n"
    }
   }
  },
  {
   "cell_type": "code",
   "execution_count": 4,
   "outputs": [],
   "source": [
    "text_to_file(text=\"First Test\")\n"
   ],
   "metadata": {
    "collapsed": false,
    "pycharm": {
     "name": "#%%\n"
    }
   }
  },
  {
   "cell_type": "code",
   "execution_count": 5,
   "outputs": [
    {
     "name": "stdout",
     "output_type": "stream",
     "text": [
      "Running stage 'TextToFile_0':\n",
      "> python -c \"from Example01 import TextToFile; TextToFile(id_=0).run()\"\n",
      "Generating lock file 'dvc.lock'\n",
      "Updating lock file 'dvc.lock'\n",
      "\n",
      "To track the changes with git, run:\n",
      "\n",
      "\tgit add dvc.lock\n",
      "Use `dvc push` to send your updates to remote storage.\n"
     ]
    }
   ],
   "source": [
    "!dvc repro\n"
   ],
   "metadata": {
    "collapsed": false,
    "pycharm": {
     "name": "#%%\n"
    }
   }
  },
  {
   "cell_type": "markdown",
   "source": [
    "Content of `dvc.yaml`\n",
    "\n",
    "```yaml\n",
    "stages:\n",
    "  TextToFile_0:\n",
    "    cmd: python -c \"from Example01 import TextToFile; TextToFile(id_=0).run()\"\n",
    "    params:\n",
    "    - config/params.json:\n",
    "      - TextToFile.0\n",
    "    outs:\n",
    "    - outs\\0_TextToFile.json\n",
    "```\n",
    "Content of `config\\params.json`\n",
    "\n",
    "```json\n",
    "{\n",
    "    \"TextToFile\": {\n",
    "        \"0\": {\n",
    "            \"text\": \"First Test\"\n",
    "        }\n",
    "    }\n",
    "}\n",
    "```"
   ],
   "metadata": {
    "collapsed": false,
    "pycharm": {
     "name": "#%% md\n"
    }
   }
  },
  {
   "cell_type": "markdown",
   "source": [
    "Now we want to save this version using git."
   ],
   "metadata": {
    "collapsed": false,
    "pycharm": {
     "name": "#%% md\n"
    }
   }
  },
  {
   "cell_type": "code",
   "execution_count": 6,
   "outputs": [
    {
     "name": "stdout",
     "output_type": "stream",
     "text": [
      "[master (root-commit) 0009b73] First Test\n",
      " 15 files changed, 558 insertions(+)\n",
      " create mode 100644 .dvc/.gitignore\n",
      " create mode 100644 .dvc/config\n",
      " create mode 100644 .dvc/plots/confusion.json\n",
      " create mode 100644 .dvc/plots/confusion_normalized.json\n",
      " create mode 100644 .dvc/plots/default.json\n",
      " create mode 100644 .dvc/plots/linear.json\n",
      " create mode 100644 .dvc/plots/scatter.json\n",
      " create mode 100644 .dvc/plots/smooth.json\n",
      " create mode 100644 .dvcignore\n",
      " create mode 100644 Example01.py\n",
      " create mode 100644 __pycache__/Example01.cpython-39.pyc\n",
      " create mode 100644 config/params.json\n",
      " create mode 100644 dvc.lock\n",
      " create mode 100644 dvc.yaml\n",
      " create mode 100644 outs/.gitignore\n"
     ]
    }
   ],
   "source": [
    "!git add .\n",
    "!git commit -m \"First Test\""
   ],
   "metadata": {
    "collapsed": false,
    "pycharm": {
     "name": "#%%\n"
    }
   }
  },
  {
   "cell_type": "markdown",
   "source": [
    "With everything saved we can create a second Entry save this one with another commit."
   ],
   "metadata": {
    "collapsed": false,
    "pycharm": {
     "name": "#%% md\n"
    }
   }
  },
  {
   "cell_type": "code",
   "execution_count": 7,
   "outputs": [
    {
     "name": "stderr",
     "output_type": "stream",
     "text": [
      "ERROR: Stage 'TextToFile_0' already exists in 'dvc.yaml'. Use '--force' to overwrite.\r\n",
      "\n"
     ]
    },
    {
     "name": "stdout",
     "output_type": "stream",
     "text": [
      "Running stage 'TextToFile_0':\n",
      "> python -c \"from Example01 import TextToFile; TextToFile(id_=0).run()\"\n",
      "Updating lock file 'dvc.lock'\n",
      "\n",
      "To track the changes with git, run:\n",
      "\n",
      "\tgit add dvc.lock\n",
      "Use `dvc push` to send your updates to remote storage.\n",
      "[master 9f094e1] Second Test\n",
      " 2 files changed, 4 insertions(+), 4 deletions(-)\n"
     ]
    }
   ],
   "source": [
    "text_to_file(text=\"Second Test\")\n",
    "\n",
    "!dvc repro\n",
    "!git add .\n",
    "!git commit -m \"Second Test\""
   ],
   "metadata": {
    "collapsed": false,
    "pycharm": {
     "name": "#%%\n"
    }
   }
  },
  {
   "cell_type": "markdown",
   "source": [
    "We can use `dvc exp show -A` to look at our commit and also get an overview over the passed parameters."
   ],
   "metadata": {
    "collapsed": false,
    "pycharm": {
     "name": "#%% md\n"
    }
   }
  },
  {
   "cell_type": "code",
   "execution_count": 8,
   "outputs": [
    {
     "name": "stdout",
     "output_type": "stream",
     "text": [
      "+-------------------------------------------+\n",
      "| Experiment | Created  | TextToFile.0.text |\n",
      "|------------+----------+-------------------|\n",
      "| workspace  | -        | Second Test       |\n",
      "| 9f094e1    | 08:39 PM | Second Test       |\n",
      "| 0009b73    | 08:39 PM | First Test        |\n",
      "+-------------------------------------------+\n"
     ]
    }
   ],
   "source": [
    "!dvc exp show -A --sha"
   ],
   "metadata": {
    "collapsed": false,
    "pycharm": {
     "name": "#%%\n"
    }
   }
  },
  {
   "cell_type": "markdown",
   "source": [
    "We can now access our saved state via `git checkout` and `dvc checkout`.\n",
    "For a full explanation on DVC please visit www.dvc.org"
   ],
   "metadata": {
    "collapsed": false,
    "pycharm": {
     "name": "#%% md\n"
    }
   }
  },
  {
   "cell_type": "code",
   "execution_count": 9,
   "outputs": [
    {
     "name": "stderr",
     "output_type": "stream",
     "text": [
      "Note: switching to '0009b73'.\n",
      "\n",
      "You are in 'detached HEAD' state. You can look around, make experimental\n",
      "changes and commit them, and you can discard any commits you make in this\n",
      "state without impacting any branches by switching back to a branch.\n",
      "\n",
      "If you want to create a new branch to retain commits you create, you may\n",
      "do so (now or later) by using -c with the switch command. Example:\n",
      "\n",
      "  git switch -c <new-branch-name>\n",
      "\n",
      "Or undo this operation with:\n",
      "\n",
      "  git switch -\n",
      "\n",
      "Turn off this advice by setting config variable advice.detachedHead to false\n",
      "\n",
      "HEAD is now at 0009b73 First Test\n"
     ]
    },
    {
     "name": "stdout",
     "output_type": "stream",
     "text": [
      "M       outs\\0_TextToFile.json\n"
     ]
    },
    {
     "data": {
      "text/plain": "{'text': 'First Test'}"
     },
     "execution_count": 9,
     "metadata": {},
     "output_type": "execute_result"
    }
   ],
   "source": [
    "!git checkout 0009b73\n",
    "!dvc checkout\n",
    "text_to_file.results"
   ],
   "metadata": {
    "collapsed": false,
    "pycharm": {
     "name": "#%%\n"
    }
   }
  },
  {
   "cell_type": "code",
   "execution_count": 11,
   "outputs": [
    {
     "name": "stderr",
     "output_type": "stream",
     "text": [
      "HEAD is now at 9f094e1 Second Test\n"
     ]
    },
    {
     "data": {
      "text/plain": "{'text': 'Second Test'}"
     },
     "execution_count": 11,
     "metadata": {},
     "output_type": "execute_result"
    }
   ],
   "source": [
    "!git checkout 9f094e1\n",
    "!dvc checkout\n",
    "text_to_file.results"
   ],
   "metadata": {
    "collapsed": false,
    "pycharm": {
     "name": "#%%\n"
    }
   }
  },
  {
   "cell_type": "markdown",
   "source": [
    "Because this was a Test, we remove all created files."
   ],
   "metadata": {
    "collapsed": false,
    "pycharm": {
     "name": "#%% md\n"
    }
   }
  },
  {
   "cell_type": "code",
   "source": [
    "os.chdir('..')\n",
    "temp_dir.cleanup()"
   ],
   "metadata": {
    "collapsed": false,
    "pycharm": {
     "name": "#%%\n"
    }
   },
   "execution_count": null,
   "outputs": []
  }
 ],
 "metadata": {
  "kernelspec": {
   "display_name": "Python 3",
   "language": "python",
   "name": "python3"
  },
  "language_info": {
   "codemirror_mode": {
    "name": "ipython",
    "version": 2
   },
   "file_extension": ".py",
   "mimetype": "text/x-python",
   "name": "python",
   "nbconvert_exporter": "python",
   "pygments_lexer": "ipython2",
   "version": "2.7.6"
  }
 },
 "nbformat": 4,
 "nbformat_minor": 0
}