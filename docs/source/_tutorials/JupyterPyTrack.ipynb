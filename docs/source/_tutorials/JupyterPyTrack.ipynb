{
 "cells": [
  {
   "cell_type": "markdown",
   "source": [
    "# Direct Jupyter Support\n",
    "We are using a temporary directory for running this script, so we can easily remove all created files."
   ],
   "metadata": {
    "collapsed": false,
    "pycharm": {
     "name": "#%% md\n"
    }
   }
  },
  {
   "cell_type": "code",
   "execution_count": 1,
   "outputs": [],
   "source": [
    "import os\n",
    "from tempfile import TemporaryDirectory\n",
    "import shutil"
   ],
   "metadata": {
    "collapsed": false,
    "pycharm": {
     "name": "#%%\n"
    }
   }
  },
  {
   "cell_type": "markdown",
   "source": [
    "It is crucial that `nb_name` matches the name of this notebook!"
   ],
   "metadata": {
    "collapsed": false,
    "pycharm": {
     "name": "#%% md\n"
    }
   }
  },
  {
   "cell_type": "code",
   "execution_count": 2,
   "outputs": [],
   "source": [
    "nb_name=\"JupyterPyTrack.ipynb\"\n",
    "temp_dir = TemporaryDirectory()\n",
    "\n",
    "shutil.copy(nb_name, temp_dir.name)\n",
    "os.chdir(temp_dir.name)"
   ],
   "metadata": {
    "collapsed": false,
    "pycharm": {
     "name": "#%%\n"
    }
   }
  },
  {
   "cell_type": "markdown",
   "source": [
    "Now we can define our PyTrack class as usual passing `nb_name` to the decorator."
   ],
   "metadata": {
    "collapsed": false,
    "pycharm": {
     "name": "#%% md\n"
    }
   }
  },
  {
   "cell_type": "code",
   "execution_count": 3,
   "outputs": [
    {
     "name": "stderr",
     "output_type": "stream",
     "text": [
      "Jupyter support is an experimental feature! \n",
      "Please submit issues to https://github.com/zincware/py-track.\n"
     ]
    }
   ],
   "source": [
    "from pytrack import PyTrack, parameter, result, DVCParams, PyTrackProject\n",
    "\n",
    "@PyTrack(nb_name=nb_name)\n",
    "class Stage:\n",
    "    def __init__(self):\n",
    "        \"\"\"Class constructor\n",
    "\n",
    "        Definition of parameters and results\n",
    "        \"\"\"\n",
    "        self.dvc = DVCParams(outs=['calculation.txt'])\n",
    "\n",
    "        self.n_1 = parameter(int)  # seems optional now\n",
    "        self.n_2 = parameter()\n",
    "\n",
    "        self.sum = result()\n",
    "        self.dif = result()\n",
    "\n",
    "    def __call__(self, n_1, n_2):\n",
    "        \"\"\"User input\n",
    "\n",
    "        Parameters\n",
    "        ----------\n",
    "        n_1: First number\n",
    "        n_2: Second number\n",
    "        \"\"\"\n",
    "        self.n_1 = n_1\n",
    "        self.n_2 = n_2\n",
    "\n",
    "    def run(self):\n",
    "        \"\"\"Actual computation\"\"\"\n",
    "        self.sum = self.n_1 + self.n_2\n",
    "        self.dif = self.n_1 - self.n_2\n",
    "\n",
    "        self.dvc.outs[0].write_text(f\"{self.n_1} + {self.n_2} = {self.sum}\")"
   ],
   "metadata": {
    "collapsed": false,
    "pycharm": {
     "name": "#%%\n"
    }
   }
  },
  {
   "cell_type": "markdown",
   "source": [
    "From now on everything should behave as usual."
   ],
   "metadata": {
    "collapsed": false,
    "pycharm": {
     "name": "#%% md\n"
    }
   }
  },
  {
   "cell_type": "code",
   "execution_count": 4,
   "outputs": [
    {
     "name": "stderr",
     "output_type": "stream",
     "text": [
      "ERROR: Stage 'Stage_0' already exists in 'dvc.yaml'. Use '--force' to overwrite.\r\n",
      "\n"
     ]
    }
   ],
   "source": [
    "project = PyTrackProject()\n",
    "project.create_dvc_repository()\n",
    "\n",
    "project.name = \"Test1\"\n",
    "stage = Stage()\n",
    "stage(10, 20)\n",
    "project.queue()\n",
    "\n",
    "project.name = \"Test2\"\n",
    "stage = Stage()\n",
    "stage(10, 30)\n",
    "project.run()"
   ],
   "metadata": {
    "collapsed": false,
    "pycharm": {
     "name": "#%%\n"
    }
   }
  },
  {
   "cell_type": "code",
   "execution_count": 5,
   "outputs": [
    {
     "data": {
      "text/plain": "30"
     },
     "execution_count": 5,
     "metadata": {},
     "output_type": "execute_result"
    }
   ],
   "source": [
    "project.load(\"Test1\")\n",
    "stage = Stage(id_=0)\n",
    "stage.sum"
   ],
   "metadata": {
    "collapsed": false,
    "pycharm": {
     "name": "#%%\n"
    }
   }
  },
  {
   "cell_type": "code",
   "execution_count": 6,
   "outputs": [
    {
     "data": {
      "text/plain": "40"
     },
     "execution_count": 6,
     "metadata": {},
     "output_type": "execute_result"
    }
   ],
   "source": [
    "project.load(\"Test2\")\n",
    "stage = Stage(id_=0)\n",
    "stage.sum\n",
    "\n"
   ],
   "metadata": {
    "collapsed": false,
    "pycharm": {
     "name": "#%%\n"
    }
   }
  },
  {
   "cell_type": "code",
   "execution_count": 8,
   "outputs": [],
   "source": [
    "os.chdir('..')\n",
    "temp_dir.cleanup()"
   ],
   "metadata": {
    "collapsed": false,
    "pycharm": {
     "name": "#%%\n"
    }
   }
  }
 ],
 "metadata": {
  "kernelspec": {
   "display_name": "Python 3",
   "language": "python",
   "name": "python3"
  },
  "language_info": {
   "codemirror_mode": {
    "name": "ipython",
    "version": 2
   },
   "file_extension": ".py",
   "mimetype": "text/x-python",
   "name": "python",
   "nbconvert_exporter": "python",
   "pygments_lexer": "ipython2",
   "version": "2.7.6"
  }
 },
 "nbformat": 4,
 "nbformat_minor": 0
}