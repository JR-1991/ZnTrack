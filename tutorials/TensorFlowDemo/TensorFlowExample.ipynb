{
 "cells": [
  {
   "cell_type": "markdown",
   "id": "9619a90b-bbb8-4cd9-8104-9e9fb6c184eb",
   "metadata": {},
   "source": [
    "These tutorial is based on https://www.tensorflow.org/tutorials/quickstart/beginner"
   ]
  },
  {
   "cell_type": "code",
   "execution_count": 1,
   "id": "057b22b9-966b-460f-9c95-678b6c3d2d04",
   "metadata": {},
   "outputs": [],
   "source": [
    "from functions import LoadData, FitModel, EvaluateModel"
   ]
  },
  {
   "cell_type": "markdown",
   "id": "89dd63a7-1b95-40f6-9047-c71bdd8516b2",
   "metadata": {},
   "source": [
    "1. Initalize GIT and DVC\n",
    "```\n",
    "git init\n",
    "dvc init\n",
    "```"
   ]
  },
  {
   "cell_type": "markdown",
   "id": "d122054c-a7b2-49d9-950b-865256657f4e",
   "metadata": {},
   "source": [
    "# Content of functions.py:LoadData\n",
    "```python\n",
    "class LoadData(DVCOp):\n",
    "    def config(self):\n",
    "        self.dvc = DVCParams(\n",
    "            outs=['x_train.npy', 'y_train.npy', 'x_test.npy', 'y_test.npy']\n",
    "        )\n",
    "\n",
    "    def __call__(self, dataset: str, exec_: bool = False, slurm: bool = False, force: bool = False,\n",
    "                 always_changed: bool = False):\n",
    "        self.parameters = {\"dataset\": dataset}\n",
    "        self.post_call(exec_=exec_, slurm=slurm, force=force, always_changed=always_changed)\n",
    "\n",
    "    def run_dvc(self, id_=0):\n",
    "        self.pre_run(id_)\n",
    "\n",
    "        if self.parameters['dataset'] == \"mnist\":\n",
    "            mnist = tf.keras.datasets.mnist\n",
    "            (x_train, y_train), (x_test, y_test) = mnist.load_data()\n",
    "            x_train, x_test = x_train / 255.0, x_test / 255.0\n",
    "\n",
    "            with open(self.files.outs[0], \"wb\") as f:\n",
    "                np.save(f, x_train)\n",
    "            with open(self.files.outs[1], \"wb\") as f:\n",
    "                np.save(f, y_train)\n",
    "            with open(self.files.outs[2], \"wb\") as f:\n",
    "                np.save(f, x_test)\n",
    "            with open(self.files.outs[3], \"wb\") as f:\n",
    "                np.save(f, y_test)\n",
    "\n",
    "            self.results = {\"shape\": x_train.shape, \"targets\": len(np.unique(y_train))}\n",
    "```"
   ]
  },
  {
   "cell_type": "markdown",
   "id": "c07cbd75-421c-48b5-abfe-afe04c2f8ba7",
   "metadata": {},
   "source": [
    "2. Create an instance of the first stage.\n",
    "\n",
    "Calling the stage runs the dvc command. Because on default it uses `--no-exec` it will only create the stage for us, but won't execute it.\n",
    "Also for simplicity reasons we have only a single parameter."
   ]
  },
  {
   "cell_type": "code",
   "execution_count": 2,
   "id": "59b2a367-a856-4480-88f4-7e4021909d18",
   "metadata": {},
   "outputs": [],
   "source": [
    "load_data = LoadData()\n",
    "load_data(dataset=\"mnist\")"
   ]
  },
  {
   "cell_type": "markdown",
   "id": "b40e941d-0308-407b-b46f-36add9b92193",
   "metadata": {},
   "source": [
    "The dvc stage and the config has been created for us. But these values are also available via the class.\n",
    "If we want to look at the output files, we can do as follows:\n"
   ]
  },
  {
   "cell_type": "code",
   "execution_count": 3,
   "id": "c0c0a9dc-b140-488c-a92f-99d00971f08e",
   "metadata": {},
   "outputs": [
    {
     "data": {
      "text/plain": [
       "[WindowsPath('outs/0_x_train.npy'),\n",
       " WindowsPath('outs/0_y_train.npy'),\n",
       " WindowsPath('outs/0_x_test.npy'),\n",
       " WindowsPath('outs/0_y_test.npy')]"
      ]
     },
     "execution_count": 3,
     "metadata": {},
     "output_type": "execute_result"
    }
   ],
   "source": [
    "load_data.files.outs"
   ]
  },
  {
   "cell_type": "markdown",
   "id": "eefd27c4-5a6c-4838-a1bc-19872f226800",
   "metadata": {},
   "source": [
    "Note: An additional file containing the results will also be created and can be found as `load_data.files.json_file`"
   ]
  },
  {
   "cell_type": "markdown",
   "id": "672fbd18-bb56-4a86-b154-904b5b45ef3e",
   "metadata": {},
   "source": [
    "The stage has not been executed yet, so no results are present. We can change that via `dvc repro`"
   ]
  },
  {
   "cell_type": "code",
   "execution_count": 4,
   "id": "adb00702-89f6-469f-9617-c85454cb67b4",
   "metadata": {},
   "outputs": [
    {
     "name": "stderr",
     "output_type": "stream",
     "text": [
      "No results found!\n"
     ]
    },
    {
     "data": {
      "text/plain": [
       "{}"
      ]
     },
     "execution_count": 4,
     "metadata": {},
     "output_type": "execute_result"
    }
   ],
   "source": [
    "load_data.results"
   ]
  },
  {
   "cell_type": "markdown",
   "id": "26dbfff0-eaee-4ab8-ac6d-01525e83424e",
   "metadata": {},
   "source": [
    "`dvc repro`"
   ]
  },
  {
   "cell_type": "code",
   "execution_count": 5,
   "id": "331c9012-e49c-451e-960c-c3f01b691ea9",
   "metadata": {},
   "outputs": [
    {
     "data": {
      "text/plain": [
       "{'shape': [60000, 28, 28], 'targets': 10}"
      ]
     },
     "execution_count": 5,
     "metadata": {},
     "output_type": "execute_result"
    }
   ],
   "source": [
    "load_data.results"
   ]
  },
  {
   "cell_type": "markdown",
   "id": "9f599f3c-c1eb-4262-a85c-d9f4f72ebd95",
   "metadata": {},
   "source": [
    "Let us now create further stages that depend on this stage. \n",
    "By default every stage is unique and has the `id = 0`. But in some cases it might be handy to have one stage multiple times.\n",
    "This can be achieved by `DVCParams(multi_use=True)`, which allows for ids > 0. \n",
    "This can be interesting if you want to combine multiple data sources but it should not be used for multiple models, because we want to use DVC for that!"
   ]
  },
  {
   "cell_type": "markdown",
   "id": "477e02d8-cb60-4ab0-b0ca-74dd22d5ceda",
   "metadata": {},
   "source": [
    "# Content of functions.py:FitModel\n",
    "```python\n",
    "class FitModel(DVCOp):\n",
    "    def config(self):\n",
    "        self.dvc = DVCParams(\n",
    "            outs=['model']\n",
    "        )\n",
    "        self.json_file = False\n",
    "\n",
    "    def __call__(self, exec_: bool = False, slurm: bool = False, force: bool = False,\n",
    "                 always_changed: bool = False):\n",
    "        self.dvc.deps = LoadData(id_=0).files.outs[:2]\n",
    "\n",
    "        self.parameters = {\"layer\": 128}\n",
    "        self.post_call(exec_=exec_, slurm=slurm, force=force, always_changed=always_changed)\n",
    "\n",
    "    def run_dvc(self, id_=0):\n",
    "        self.pre_run(id_)\n",
    "\n",
    "        load_data = LoadData(id_=0)\n",
    "\n",
    "        input_shape = load_data.results['shape'][1:]\n",
    "        target_size = load_data.results['targets']\n",
    "\n",
    "        model = tf.keras.models.Sequential([\n",
    "            tf.keras.layers.Flatten(input_shape=input_shape),\n",
    "            tf.keras.layers.Dense(self.parameters['layer'], activation='relu'),\n",
    "            tf.keras.layers.Dropout(0.2),\n",
    "            tf.keras.layers.Dense(target_size)\n",
    "        ])\n",
    "\n",
    "        loss_fn = tf.keras.losses.SparseCategoricalCrossentropy(from_logits=True)\n",
    "        model.compile(optimizer='adam',\n",
    "                      loss=loss_fn,\n",
    "                      metrics=['accuracy'])\n",
    "\n",
    "        with open(load_data.files.outs[0], 'rb') as f:\n",
    "            x_train = np.load(f)\n",
    "        with open(load_data.files.outs[1], 'rb') as f:\n",
    "            y_train = np.load(f)\n",
    "\n",
    "        model.fit(x_train, y_train, epochs=5)\n",
    "        model.save(str(self.files.outs[0]))\n",
    "```"
   ]
  },
  {
   "cell_type": "code",
   "execution_count": 6,
   "id": "589470b5-5897-4a30-af0e-cb2b8921d2f3",
   "metadata": {},
   "outputs": [],
   "source": [
    "fit_model = FitModel()\n",
    "fit_model()"
   ]
  },
  {
   "cell_type": "markdown",
   "id": "a0b5e50a-0054-4931-9e04-e48b69bef199",
   "metadata": {},
   "source": [
    "# Content of functions.py:EvaluateModel\n",
    "```python\n",
    "class EvaluateModel(DVCOp):\n",
    "    def config(self):\n",
    "        self.dvc = DVCParams(\n",
    "            metrics_no_cache=['metrics.json']\n",
    "        )\n",
    "        self.json_file = False\n",
    "\n",
    "    def __call__(self, exec_: bool = False, slurm: bool = False, force: bool = False,\n",
    "                 always_changed: bool = False):\n",
    "        self.parameters = {'verbose': 2}\n",
    "        self.dvc.deps = FitModel(id_=0).files.outs\n",
    "        self.dvc.deps += LoadData(id_=0).files.outs[2:]\n",
    "        self.post_call(exec_=exec_, slurm=slurm, force=force, always_changed=always_changed)\n",
    "\n",
    "    def run_dvc(self, id_=0):\n",
    "        self.pre_run(id_)\n",
    "\n",
    "        fit_model = FitModel(id_=0)\n",
    "\n",
    "        model = tf.keras.models.load_model(str(fit_model.files.outs[0]))\n",
    "\n",
    "        load_data = LoadData(id_=0)\n",
    "\n",
    "        with open(load_data.files.outs[2], 'rb') as f:\n",
    "            x_test = np.load(f)\n",
    "        with open(load_data.files.outs[3], 'rb') as f:\n",
    "            y_test = np.load(f)\n",
    "\n",
    "        out = model.evaluate(x_test, y_test, verbose=self.parameters['verbose'])\n",
    "\n",
    "        with open(self.files.metrics_no_cache[0], \"w\") as f:\n",
    "            json.dump(out, f)\n",
    "```"
   ]
  },
  {
   "cell_type": "code",
   "execution_count": 7,
   "id": "520144d3-79cd-4d03-bd98-699cfc195ae5",
   "metadata": {},
   "outputs": [],
   "source": [
    "eval_model = EvaluateModel()\n",
    "eval_model()"
   ]
  },
  {
   "cell_type": "markdown",
   "id": "4a67cbe3-758c-41c1-bb15-db306228a69b",
   "metadata": {},
   "source": [
    "We have now created a `dvc.yaml` file containing all the information \n",
    "\n",
    "```yaml\n",
    "stages:\n",
    "  LoadData_0:\n",
    "    cmd: python -c \"from functions import LoadData; LoadData().run_dvc(id_=0)\"\n",
    "    params:\n",
    "    - config/params.json:\n",
    "      - LoadData.0\n",
    "    outs:\n",
    "    - outs\\0_LoadData.json\n",
    "    - outs\\0_x_test.npy\n",
    "    - outs\\0_x_train.npy\n",
    "    - outs\\0_y_test.npy\n",
    "    - outs\\0_y_train.npy\n",
    "  FitModel_0:\n",
    "    cmd: python -c \"from functions import FitModel; FitModel().run_dvc(id_=0)\"\n",
    "    deps:\n",
    "    - outs\\0_x_train.npy\n",
    "    - outs\\0_y_train.npy\n",
    "    params:\n",
    "    - config/params.json:\n",
    "      - FitModel.0\n",
    "    outs:\n",
    "    - outs\\0_model\n",
    "  EvaluateModel_0:\n",
    "    cmd: python -c \"from functions import EvaluateModel; EvaluateModel().run_dvc(id_=0)\"\n",
    "    deps:\n",
    "    - outs\\0_model\n",
    "    - outs\\0_x_test.npy\n",
    "    - outs\\0_y_test.npy\n",
    "    params:\n",
    "    - config/params.json:\n",
    "      - EvaluateModel.0\n",
    "    metrics:\n",
    "    - metrics\\0_metrics.json:\n",
    "        cache: false\n",
    "```\n",
    "and the respective parameters are stored in \n",
    "```json\n",
    "{\n",
    "  \"LoadData\": {\n",
    "    \"0\": {\n",
    "      \"dataset\": \"mnist\"\n",
    "    }\n",
    "  },\n",
    "  \"FitModel\": {\n",
    "    \"0\": {\n",
    "      \"layer\": 128\n",
    "    }\n",
    "  },\n",
    "  \"EvaluateModel\": {\n",
    "    \"0\": {\n",
    "      \"verbose\": 2\n",
    "    }\n",
    "  }\n",
    "}\n",
    "```"
   ]
  },
  {
   "cell_type": "markdown",
   "id": "344bb9ff-2e53-4428-8789-be314039e3ff",
   "metadata": {},
   "source": [
    "The dependency graph is also available via `dvc dag`\n",
    "```\n",
    "              +------------+        \n",
    "\n",
    "              | LoadData_0 |        \n",
    "\n",
    "              +------------+        \n",
    "\n",
    "             ***           ***      \n",
    "\n",
    "           **                 **    \n",
    "\n",
    "         **                     **  \n",
    "\n",
    "+------------+                    **\n",
    "\n",
    "| FitModel_0 |                  **  \n",
    "\n",
    "+------------+                **    \n",
    "\n",
    "             ***           ***      \n",
    "\n",
    "                **       **         \n",
    "\n",
    "                  **   **           \n",
    "\n",
    "            +-----------------+     \n",
    "\n",
    "            | EvaluateModel_0 |     \n",
    "\n",
    "            +-----------------+  \n",
    "```"
   ]
  },
  {
   "cell_type": "markdown",
   "id": "50fc140a-6c12-4290-93bf-486ea9cb7b43",
   "metadata": {
    "tags": []
   },
   "source": [
    "We can now use `dvc repro` to run all stages we have created and can look at the results in the respective folders"
   ]
  },
  {
   "cell_type": "code",
   "execution_count": null,
   "id": "955a9d9b-9f3b-45f4-b28e-91522769fe5e",
   "metadata": {},
   "outputs": [],
   "source": []
  }
 ],
 "metadata": {
  "kernelspec": {
   "display_name": "Python 3",
   "language": "python",
   "name": "python3"
  },
  "language_info": {
   "codemirror_mode": {
    "name": "ipython",
    "version": 3
   },
   "file_extension": ".py",
   "mimetype": "text/x-python",
   "name": "python",
   "nbconvert_exporter": "python",
   "pygments_lexer": "ipython3",
   "version": "3.9.5"
  }
 },
 "nbformat": 4,
 "nbformat_minor": 5
}
