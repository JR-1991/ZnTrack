{
 "cells": [
  {
   "cell_type": "code",
   "execution_count": 1,
   "id": "87cacf96-fb95-4630-97f5-774adcbc65f5",
   "metadata": {},
   "outputs": [],
   "source": [
    "from pytrack.interface import DVCInterface"
   ]
  },
  {
   "cell_type": "code",
   "execution_count": 2,
   "id": "956e3b00-7ead-47c5-80ac-58c0e034b276",
   "metadata": {},
   "outputs": [],
   "source": [
    "interface = DVCInterface()"
   ]
  },
  {
   "cell_type": "code",
   "execution_count": 11,
   "id": "4595a403-f5e1-4164-8c12-152cb45c0d04",
   "metadata": {},
   "outputs": [
    {
     "name": "stdout",
     "output_type": "stream",
     "text": [
      "\u001b[31mERROR\u001b[39m: you are not inside of a DVC repository (checked up to mount point '/auto.bee/work')\n",
      "\u001b[0m"
     ]
    }
   ],
   "source": [
    "!dvc destroy -f\n",
    "!rm -rf .dvcignore file.txt .git .gitignore params.yaml "
   ]
  },
  {
   "cell_type": "code",
   "execution_count": 12,
   "id": "12ed3079-eb0e-4b39-b283-dcf4bbfc3e05",
   "metadata": {},
   "outputs": [
    {
     "name": "stdout",
     "output_type": "stream",
     "text": [
      "Initialized empty Git repository in /auto.bee/work/fzills/work/TEST/DVC_get/.git/\n",
      "Initialized DVC repository.\n",
      "\n",
      "You can now commit the changes to git.\n",
      "\n",
      "\u001b[31m+---------------------------------------------------------------------+\n",
      "\u001b[0m\u001b[31m|\u001b[0m                                                                     \u001b[31m|\u001b[0m\n",
      "\u001b[31m|\u001b[0m        DVC has enabled anonymous aggregate usage analytics.         \u001b[31m|\u001b[0m\n",
      "\u001b[31m|\u001b[0m     Read the analytics documentation (and how to opt-out) here:     \u001b[31m|\u001b[0m\n",
      "\u001b[31m|\u001b[0m             <\u001b[36mhttps://dvc.org/doc/user-guide/analytics\u001b[39m>              \u001b[31m|\u001b[0m\n",
      "\u001b[31m|\u001b[0m                                                                     \u001b[31m|\u001b[0m\n",
      "\u001b[31m+---------------------------------------------------------------------+\n",
      "\u001b[0m\n",
      "\u001b[33mWhat's next?\u001b[39m\n",
      "\u001b[33m------------\u001b[39m\n",
      "- Check out the documentation: <\u001b[36mhttps://dvc.org/doc\u001b[39m>\n",
      "- Get help and share ideas: <\u001b[36mhttps://dvc.org/chat\u001b[39m>\n",
      "- Star us on GitHub: <\u001b[36mhttps://github.com/iterative/dvc\u001b[39m>\n",
      "\u001b[0m"
     ]
    }
   ],
   "source": [
    "!git init\n",
    "!dvc init\n",
    "!echo \"var: 1\" > params.yaml"
   ]
  },
  {
   "cell_type": "code",
   "execution_count": 13,
   "id": "caec2e67-ad33-4d19-b85c-f41cc10c7685",
   "metadata": {},
   "outputs": [
    {
     "name": "stdout",
     "output_type": "stream",
     "text": [
      "Running stage 'HelloWorld':                                           core\u001b[39m>\n",
      "> uptime > file.txt\n",
      "Creating 'dvc.yaml'                                                             \n",
      "Adding stage 'HelloWorld' in 'dvc.yaml'\n",
      "Generating lock file 'dvc.lock'\n",
      "Updating lock file 'dvc.lock'\n",
      "\n",
      "To track the changes with git, run:\n",
      "\n",
      "\tgit add dvc.lock .gitignore dvc.yaml\n",
      "\u001b[0m"
     ]
    }
   ],
   "source": [
    "!dvc run -n HelloWorld -p var -o file.txt \"uptime > file.txt\""
   ]
  },
  {
   "cell_type": "code",
   "execution_count": 14,
   "id": "eda90cc0-4617-4a0f-9f79-cc37ab577c40",
   "metadata": {
    "tags": []
   },
   "outputs": [
    {
     "name": "stdout",
     "output_type": "stream",
     "text": [
      "[master (root-commit) bc1ca45] Init\n",
      " 16 files changed, 804 insertions(+)\n",
      " create mode 100644 .dvc/.gitignore\n",
      " create mode 100644 .dvc/config\n",
      " create mode 100644 .dvc/plots/confusion.json\n",
      " create mode 100644 .dvc/plots/confusion_normalized.json\n",
      " create mode 100644 .dvc/plots/default.json\n",
      " create mode 100644 .dvc/plots/linear.json\n",
      " create mode 100644 .dvc/plots/scatter.json\n",
      " create mode 100644 .dvc/plots/smooth.json\n",
      " create mode 100644 .dvcignore\n",
      " create mode 100644 .gitignore\n",
      " create mode 100644 .ipynb_checkpoints/Untitled-checkpoint.ipynb\n",
      " create mode 100644 .ipynb_checkpoints/file-checkpoint.txt\n",
      " create mode 100644 Untitled.ipynb\n",
      " create mode 100644 dvc.lock\n",
      " create mode 100644 dvc.yaml\n",
      " create mode 100644 params.yaml\n"
     ]
    }
   ],
   "source": [
    "!git add .\n",
    "!git commit -m \"Init\""
   ]
  },
  {
   "cell_type": "code",
   "execution_count": 18,
   "id": "8c01709e-db4b-4bc7-8f38-441d41f917e7",
   "metadata": {},
   "outputs": [
    {
     "data": {
      "text/plain": [
       "{'master': 'bc1ca45943606dc762746b1c5ffb9ecb688ece6d'}"
      ]
     },
     "execution_count": 18,
     "metadata": {},
     "output_type": "execute_result"
    }
   ],
   "source": [
    "interface.exp_dict"
   ]
  },
  {
   "cell_type": "code",
   "execution_count": 19,
   "id": "7a930e67-98b0-4e67-a060-e3c3f24fd2b0",
   "metadata": {},
   "outputs": [
    {
     "name": "stdout",
     "output_type": "stream",
     "text": [
      "Queued experiment 'b0af22f' for future execution.                     core\u001b[39m>\n",
      "Queued experiment '015e442' for future execution.                     core\u001b[39m>\n",
      "Queued experiment '75a7749' for future execution.                     core\u001b[39m>\n",
      "  0% Checkout|                                       |0/1 [00:00<?,     ?file/s]\n",
      "!\u001b[A\n",
      "  0%|          |.iRjPFUJqw58cSzwyecWya5.tmp          0/70 [00:00<?,       ?it/s]\u001b[A\n",
      "Running stage 'HelloWorld':                                           core\u001b[39m>\u001b[A\n",
      "> uptime > file.txt\n",
      "Updating lock file 'dvc.lock'                                                   \n",
      "  0% Checkout|                                       |0/1 [00:00<?,     ?file/s]\n",
      "!\u001b[A\n",
      "  0%|          |.MapFmvUEqa6TYm4xnQ7uQc.tmp          0/70 [00:00<?,       ?it/s]\u001b[A\n",
      "Running stage 'HelloWorld':                                           core\u001b[39m>\u001b[A\n",
      "> uptime > file.txt\n",
      "Updating lock file 'dvc.lock'                                                   \n",
      "  0% Checkout|                                       |0/1 [00:00<?,     ?file/s]\n",
      "!\u001b[A\n",
      "  0%|          |.4Ti65YMesN2J9dFNmfLNrU.tmp          0/70 [00:00<?,       ?it/s]\u001b[A\n",
      "Running stage 'HelloWorld':                                           core\u001b[39m>\u001b[A\n",
      "> uptime > file.txt\n",
      "Updating lock file 'dvc.lock'                                                   \n",
      "                                                                                \n",
      "Reproduced experiment(s): HelloWorld4, HelloWorld3, HelloWorld2\n",
      "To apply the results of an experiment to your workspace run:\n",
      "\n",
      "\tdvc exp apply <exp>\n",
      "\n",
      "To promote an experiment to a Git branch run:\n",
      "\n",
      "\tdvc exp branch <exp>\n",
      "\n",
      "\u001b[0m"
     ]
    }
   ],
   "source": [
    "!dvc exp run -S var=2 --queue -n \"HelloWorld2\"\n",
    "!dvc exp run -S var=3 --queue -n \"HelloWorld3\"\n",
    "!dvc exp run -S var=4 --queue -n \"HelloWorld4\"\n",
    "!dvc exp run --run-all"
   ]
  },
  {
   "cell_type": "code",
   "execution_count": 20,
   "id": "78eae820-4c30-4409-a620-584ed374ffe2",
   "metadata": {},
   "outputs": [
    {
     "data": {
      "text/plain": [
       "{'master': 'bc1ca45943606dc762746b1c5ffb9ecb688ece6d',\n",
       " 'HelloWorld2': 'a151534b5fe44a227fa5b509941ff2934e184d99',\n",
       " 'HelloWorld3': '909b094996683da3e731c46291ed5b0859ef3c44',\n",
       " 'HelloWorld4': 'c6cd6d164e1c277107e0b440935622b8a8e08bc5'}"
      ]
     },
     "execution_count": 20,
     "metadata": {},
     "output_type": "execute_result"
    }
   ],
   "source": [
    "interface._reset()\n",
    "interface.exp_dict"
   ]
  },
  {
   "cell_type": "code",
   "execution_count": 21,
   "id": "f8eed8ad-9186-4474-af4c-b647f83fcfcf",
   "metadata": {},
   "outputs": [
    {
     "name": "stderr",
     "output_type": "stream",
     "text": [
      "DVC command: ['dvc', 'get', '.', 'file.txt', '--rev', 'a151534b5fe44a227fa5b509941ff2934e184d99', '--out', PosixPath('experiments/HelloWorld2')]\n",
      "DVC command: ['dvc', 'get', '.', 'file.txt', '--rev', '909b094996683da3e731c46291ed5b0859ef3c44', '--out', PosixPath('experiments/HelloWorld3')]\n"
     ]
    }
   ],
   "source": [
    "interface.load_files_into_directory(files=[\"file.txt\"], experiments=[\"HelloWorld2\", \"HelloWorld3\"])"
   ]
  },
  {
   "cell_type": "code",
   "execution_count": null,
   "id": "e602a7e3-24b3-4ab1-84d5-46e5dda7d1db",
   "metadata": {},
   "outputs": [],
   "source": []
  }
 ],
 "metadata": {
  "kernelspec": {
   "display_name": "Python 3",
   "language": "python",
   "name": "python3"
  },
  "language_info": {
   "codemirror_mode": {
    "name": "ipython",
    "version": 3
   },
   "file_extension": ".py",
   "mimetype": "text/x-python",
   "name": "python",
   "nbconvert_exporter": "python",
   "pygments_lexer": "ipython3",
   "version": "3.9.4"
  }
 },
 "nbformat": 4,
 "nbformat_minor": 5
}
